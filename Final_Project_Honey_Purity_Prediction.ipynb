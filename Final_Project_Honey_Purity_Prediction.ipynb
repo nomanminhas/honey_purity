{
  "cells": [
    {
      "cell_type": "markdown",
      "metadata": {},
      "source": [
        "## Import Libraries"
      ]
    },
    {
      "cell_type": "code",
      "execution_count": 1,
      "metadata": {
        "id": "x0trelvH91la"
      },
      "outputs": [],
      "source": [
        "import numpy as np\n",
        "import pandas as pd\n",
        "import matplotlib.pyplot as plt\n",
        "import seaborn as sns\n",
        "import warnings\n",
        "warnings.filterwarnings('ignore')\n",
        "from sklearn.model_selection import train_test_split, GridSearchCV\n",
        "from sklearn.linear_model import LinearRegression, Lasso\n",
        "from sklearn.metrics import r2_score\n",
        "from sklearn.ensemble import RandomForestRegressor\n",
        "from sklearn.preprocessing import StandardScaler\n",
        "from sklearn.tree import DecisionTreeRegressor\n",
        "from xgboost import XGBRegressor\n",
        "from sklearn.ensemble import AdaBoostRegressor\n",
        "import tensorflow as tf\n",
        "from tensorflow.keras.models import Sequential\n",
        "from tensorflow.keras.layers import Dense, RNN, LSTM, Dropout\n",
        "from tensorflow.keras.callbacks import EarlyStopping\n",
        "import pickle\n",
        "import plotly.graph_objects as go\n",
        "from plotly.subplots import make_subplots\n",
        "from sklearn.ensemble import GradientBoostingRegressor\n",
        "from sklearn.preprocessing import PolynomialFeatures"
      ]
    },
    {
      "cell_type": "markdown",
      "metadata": {},
      "source": [
        "# Dataset Selection & Analysis"
      ]
    },
    {
      "cell_type": "markdown",
      "metadata": {},
      "source": [
        "## Import Dataset"
      ]
    },
    {
      "cell_type": "code",
      "execution_count": 68,
      "metadata": {
        "id": "SI3fChWI0m_h"
      },
      "outputs": [],
      "source": [
        "df = pd.read_csv('honey_purity_dataset.csv')"
      ]
    },
    {
      "cell_type": "markdown",
      "metadata": {},
      "source": [
        "## Dataset Analysis"
      ]
    },
    {
      "cell_type": "code",
      "execution_count": 69,
      "metadata": {
        "colab": {
          "base_uri": "https://localhost:8080/"
        },
        "id": "OK_oKqgx0m8m",
        "outputId": "97e4c692-52cc-4bab-bd4a-12787a497a21"
      },
      "outputs": [
        {
          "name": "stdout",
          "output_type": "stream",
          "text": [
            "<class 'pandas.core.frame.DataFrame'>\n",
            "RangeIndex: 247903 entries, 0 to 247902\n",
            "Data columns (total 11 columns):\n",
            " #   Column           Non-Null Count   Dtype  \n",
            "---  ------           --------------   -----  \n",
            " 0   CS               247903 non-null  float64\n",
            " 1   Density          247903 non-null  float64\n",
            " 2   WC               247903 non-null  float64\n",
            " 3   pH               247903 non-null  float64\n",
            " 4   EC               247903 non-null  float64\n",
            " 5   F                247903 non-null  float64\n",
            " 6   G                247903 non-null  float64\n",
            " 7   Pollen_analysis  247903 non-null  object \n",
            " 8   Viscosity        247903 non-null  float64\n",
            " 9   Purity           247903 non-null  float64\n",
            " 10  Price            247903 non-null  float64\n",
            "dtypes: float64(10), object(1)\n",
            "memory usage: 20.8+ MB\n"
          ]
        }
      ],
      "source": [
        "df.info()"
      ]
    },
    {
      "cell_type": "code",
      "execution_count": 70,
      "metadata": {},
      "outputs": [
        {
          "data": {
            "text/plain": [
              "(247903, 11)"
            ]
          },
          "execution_count": 70,
          "metadata": {},
          "output_type": "execute_result"
        }
      ],
      "source": [
        "df.shape"
      ]
    },
    {
      "cell_type": "code",
      "execution_count": 71,
      "metadata": {},
      "outputs": [
        {
          "name": "stdout",
          "output_type": "stream",
          "text": [
            "\n",
            " There are 1 Cateogrical Columns in Dataset\n",
            "\n",
            " There are 10 Numerical Columns in Dataset\n"
          ]
        }
      ],
      "source": [
        "categorical_cols = df.dtypes[df.dtypes == 'object'].index.to_list()\n",
        "print(f'\\n There are {len(categorical_cols)} Cateogrical Columns in Dataset')\n",
        "\n",
        "numerical_cols = df.dtypes[df.dtypes != 'object'].index.to_list()\n",
        "print(f'\\n There are {len(numerical_cols)} Numerical Columns in Dataset')"
      ]
    },
    {
      "cell_type": "markdown",
      "metadata": {},
      "source": [
        "Observations:\n",
        "\n",
        "- Data set contains 247902 observations and 11 variables\n",
        "- 10 variables are numerical and 1 variable is categorical.\n",
        "- need to drop unnecessary columns"
      ]
    },
    {
      "cell_type": "markdown",
      "metadata": {},
      "source": [
        "# Data Cleaning"
      ]
    },
    {
      "cell_type": "code",
      "execution_count": 72,
      "metadata": {
        "colab": {
          "base_uri": "https://localhost:8080/",
          "height": 429
        },
        "collapsed": true,
        "id": "d37FqMcv0m5F",
        "outputId": "e39ddf30-962e-4cfb-b4a8-b85bbbf5460c"
      },
      "outputs": [
        {
          "data": {
            "text/plain": [
              "CS                 0\n",
              "Density            0\n",
              "WC                 0\n",
              "pH                 0\n",
              "EC                 0\n",
              "F                  0\n",
              "G                  0\n",
              "Pollen_analysis    0\n",
              "Viscosity          0\n",
              "Purity             0\n",
              "Price              0\n",
              "dtype: int64"
            ]
          },
          "execution_count": 72,
          "metadata": {},
          "output_type": "execute_result"
        }
      ],
      "source": [
        "df.isnull().sum()"
      ]
    },
    {
      "cell_type": "code",
      "execution_count": 73,
      "metadata": {
        "colab": {
          "base_uri": "https://localhost:8080/"
        },
        "collapsed": true,
        "id": "SMQ_7yF40m16",
        "outputId": "f984331a-fc45-4b40-8e5a-7a7e68286e7e"
      },
      "outputs": [
        {
          "data": {
            "text/plain": [
              "0"
            ]
          },
          "execution_count": 73,
          "metadata": {},
          "output_type": "execute_result"
        }
      ],
      "source": [
        "df.duplicated().sum()"
      ]
    },
    {
      "cell_type": "code",
      "execution_count": 74,
      "metadata": {},
      "outputs": [
        {
          "data": {
            "text/plain": [
              "CS                    901\n",
              "Density                66\n",
              "WC                   1301\n",
              "pH                    501\n",
              "EC                     21\n",
              "F                    3001\n",
              "G                    2501\n",
              "Pollen_analysis        19\n",
              "Viscosity          215083\n",
              "Purity                 24\n",
              "Price                 708\n",
              "dtype: int64"
            ]
          },
          "execution_count": 74,
          "metadata": {},
          "output_type": "execute_result"
        }
      ],
      "source": [
        "df.nunique()"
      ]
    },
    {
      "cell_type": "markdown",
      "metadata": {},
      "source": [
        "Observation:\n",
        "\n",
        "- No null values in dataset\n",
        "- No duplicate values in dataset"
      ]
    },
    {
      "cell_type": "markdown",
      "metadata": {},
      "source": [
        "# Data Exploration and Feature Engineering"
      ]
    },
    {
      "cell_type": "markdown",
      "metadata": {},
      "source": [
        "CS (Color Score):\n",
        "Represents the color score of the honey sample, ranging from 1.0 to 10.0. Lower values indicate a lighter color, while higher values indicate a darker color.\n",
        "\n",
        "Density:\n",
        "Represents the density of the honey sample in grams per cubic centimeter at 25°C, ranging from 1.21 to 1.86.\n",
        "\n",
        "WC (Water Content):\n",
        "Represents the water content in the honey sample, ranging from 12.0% to 25.0%.\n",
        "\n",
        "pH:\n",
        "Represents the pH level of the honey sample, ranging from 2.50 to 7.50.\n",
        "\n",
        "EC (Electrical Conductivity):\n",
        "Represents the electrical conductivity of the honey sample in milliSiemens per centimeter.\n",
        "\n",
        "F (Fructose Level):\n",
        "Represents the fructose level of the honey sample, ranging from 20 to 50.\n",
        "\n",
        "G (Glucose Level):\n",
        "Represents the glucose level of the honey sample, ranging from 20 to 45.\n",
        "\n",
        "Pollen_analysis:\n",
        "Represents the floral source of the honey sample. Possible values include Clover, Wildflower, Orange Blossom, Alfalfa, Acacia, Lavender, Eucalyptus, Buckwheat, Manuka, Sage, Sunflower, Borage, Rosemary, Thyme, Heather, Tupelo, Blueberry, Chestnut, and Avocado.\n",
        "\n",
        "Viscosity:\n",
        "Represents the viscosity of the honey sample in centipoise, ranging from 1500 to 10000. Viscosity values between 2500 and 9500 are considered optimal for purity.\n",
        "\n",
        "Purity:\n",
        "The target variable represents the purity of the honey sample, ranging from 0.01 to 1.00.\n",
        "\n",
        "Price:\n",
        "The calculated price of the honey."
      ]
    },
    {
      "cell_type": "markdown",
      "metadata": {},
      "source": [
        "### Change the Column names to meaningful names"
      ]
    },
    {
      "cell_type": "code",
      "execution_count": 75,
      "metadata": {},
      "outputs": [],
      "source": [
        "df.rename(columns= {'CS': \"Color Score\", 'WC': \"Water Content\",  'EC': \"Electrical Conductivity\", 'F':\"Fructose Level\", 'G': \"Glucose Level\", \"Pollen_analysis\":'Pollen Analysis',},inplace=True)"
      ]
    },
    {
      "cell_type": "code",
      "execution_count": 76,
      "metadata": {
        "colab": {
          "base_uri": "https://localhost:8080/",
          "height": 206
        },
        "id": "MrV8ZPEP0mze",
        "outputId": "5b55e9bf-72ab-49c2-bfec-230613104ef3"
      },
      "outputs": [
        {
          "data": {
            "text/html": [
              "<div>\n",
              "<style scoped>\n",
              "    .dataframe tbody tr th:only-of-type {\n",
              "        vertical-align: middle;\n",
              "    }\n",
              "\n",
              "    .dataframe tbody tr th {\n",
              "        vertical-align: top;\n",
              "    }\n",
              "\n",
              "    .dataframe thead th {\n",
              "        text-align: right;\n",
              "    }\n",
              "</style>\n",
              "<table border=\"1\" class=\"dataframe\">\n",
              "  <thead>\n",
              "    <tr style=\"text-align: right;\">\n",
              "      <th></th>\n",
              "      <th>Color Score</th>\n",
              "      <th>Density</th>\n",
              "      <th>Water Content</th>\n",
              "      <th>pH</th>\n",
              "      <th>Electrical Conductivity</th>\n",
              "      <th>Fructose Level</th>\n",
              "      <th>Glucose Level</th>\n",
              "      <th>Pollen Analysis</th>\n",
              "      <th>Viscosity</th>\n",
              "      <th>Purity</th>\n",
              "      <th>Price</th>\n",
              "    </tr>\n",
              "  </thead>\n",
              "  <tbody>\n",
              "    <tr>\n",
              "      <th>0</th>\n",
              "      <td>2.81</td>\n",
              "      <td>1.75</td>\n",
              "      <td>23.04</td>\n",
              "      <td>6.29</td>\n",
              "      <td>0.76</td>\n",
              "      <td>39.02</td>\n",
              "      <td>33.63</td>\n",
              "      <td>Blueberry</td>\n",
              "      <td>4844.50</td>\n",
              "      <td>0.68</td>\n",
              "      <td>645.24</td>\n",
              "    </tr>\n",
              "    <tr>\n",
              "      <th>1</th>\n",
              "      <td>9.47</td>\n",
              "      <td>1.82</td>\n",
              "      <td>17.50</td>\n",
              "      <td>7.20</td>\n",
              "      <td>0.71</td>\n",
              "      <td>38.15</td>\n",
              "      <td>34.41</td>\n",
              "      <td>Alfalfa</td>\n",
              "      <td>6689.02</td>\n",
              "      <td>0.89</td>\n",
              "      <td>385.85</td>\n",
              "    </tr>\n",
              "    <tr>\n",
              "      <th>2</th>\n",
              "      <td>4.61</td>\n",
              "      <td>1.84</td>\n",
              "      <td>23.72</td>\n",
              "      <td>7.31</td>\n",
              "      <td>0.80</td>\n",
              "      <td>27.47</td>\n",
              "      <td>34.36</td>\n",
              "      <td>Chestnut</td>\n",
              "      <td>6883.60</td>\n",
              "      <td>0.66</td>\n",
              "      <td>639.64</td>\n",
              "    </tr>\n",
              "    <tr>\n",
              "      <th>3</th>\n",
              "      <td>1.77</td>\n",
              "      <td>1.40</td>\n",
              "      <td>16.61</td>\n",
              "      <td>4.01</td>\n",
              "      <td>0.78</td>\n",
              "      <td>31.52</td>\n",
              "      <td>28.15</td>\n",
              "      <td>Blueberry</td>\n",
              "      <td>7167.56</td>\n",
              "      <td>1.00</td>\n",
              "      <td>946.46</td>\n",
              "    </tr>\n",
              "    <tr>\n",
              "      <th>4</th>\n",
              "      <td>6.11</td>\n",
              "      <td>1.25</td>\n",
              "      <td>19.63</td>\n",
              "      <td>4.82</td>\n",
              "      <td>0.90</td>\n",
              "      <td>29.65</td>\n",
              "      <td>42.52</td>\n",
              "      <td>Alfalfa</td>\n",
              "      <td>5125.44</td>\n",
              "      <td>1.00</td>\n",
              "      <td>432.62</td>\n",
              "    </tr>\n",
              "  </tbody>\n",
              "</table>\n",
              "</div>"
            ],
            "text/plain": [
              "   Color Score  Density  Water Content    pH  Electrical Conductivity  \\\n",
              "0         2.81     1.75          23.04  6.29                     0.76   \n",
              "1         9.47     1.82          17.50  7.20                     0.71   \n",
              "2         4.61     1.84          23.72  7.31                     0.80   \n",
              "3         1.77     1.40          16.61  4.01                     0.78   \n",
              "4         6.11     1.25          19.63  4.82                     0.90   \n",
              "\n",
              "   Fructose Level  Glucose Level Pollen Analysis  Viscosity  Purity   Price  \n",
              "0           39.02          33.63       Blueberry    4844.50    0.68  645.24  \n",
              "1           38.15          34.41         Alfalfa    6689.02    0.89  385.85  \n",
              "2           27.47          34.36        Chestnut    6883.60    0.66  639.64  \n",
              "3           31.52          28.15       Blueberry    7167.56    1.00  946.46  \n",
              "4           29.65          42.52         Alfalfa    5125.44    1.00  432.62  "
            ]
          },
          "execution_count": 76,
          "metadata": {},
          "output_type": "execute_result"
        }
      ],
      "source": [
        "df.head()"
      ]
    },
    {
      "cell_type": "code",
      "execution_count": 77,
      "metadata": {},
      "outputs": [],
      "source": [
        "df.drop('Price', axis=1, inplace=True)"
      ]
    },
    {
      "cell_type": "markdown",
      "metadata": {},
      "source": [
        "## Numerical Data Analysis"
      ]
    },
    {
      "cell_type": "code",
      "execution_count": 78,
      "metadata": {},
      "outputs": [
        {
          "data": {
            "text/html": [
              "<div>\n",
              "<style scoped>\n",
              "    .dataframe tbody tr th:only-of-type {\n",
              "        vertical-align: middle;\n",
              "    }\n",
              "\n",
              "    .dataframe tbody tr th {\n",
              "        vertical-align: top;\n",
              "    }\n",
              "\n",
              "    .dataframe thead th {\n",
              "        text-align: right;\n",
              "    }\n",
              "</style>\n",
              "<table border=\"1\" class=\"dataframe\">\n",
              "  <thead>\n",
              "    <tr style=\"text-align: right;\">\n",
              "      <th></th>\n",
              "      <th>Color Score</th>\n",
              "      <th>Density</th>\n",
              "      <th>Water Content</th>\n",
              "      <th>pH</th>\n",
              "      <th>Electrical Conductivity</th>\n",
              "      <th>Fructose Level</th>\n",
              "      <th>Glucose Level</th>\n",
              "      <th>Viscosity</th>\n",
              "      <th>Purity</th>\n",
              "    </tr>\n",
              "  </thead>\n",
              "  <tbody>\n",
              "    <tr>\n",
              "      <th>count</th>\n",
              "      <td>247903.000000</td>\n",
              "      <td>247903.000000</td>\n",
              "      <td>247903.000000</td>\n",
              "      <td>247903.000000</td>\n",
              "      <td>247903.000000</td>\n",
              "      <td>247903.000000</td>\n",
              "      <td>247903.000000</td>\n",
              "      <td>247903.000000</td>\n",
              "      <td>247903.000000</td>\n",
              "    </tr>\n",
              "    <tr>\n",
              "      <th>mean</th>\n",
              "      <td>5.500259</td>\n",
              "      <td>1.535523</td>\n",
              "      <td>18.502625</td>\n",
              "      <td>4.996047</td>\n",
              "      <td>0.799974</td>\n",
              "      <td>34.970573</td>\n",
              "      <td>32.501006</td>\n",
              "      <td>5752.893888</td>\n",
              "      <td>0.824471</td>\n",
              "    </tr>\n",
              "    <tr>\n",
              "      <th>std</th>\n",
              "      <td>2.593947</td>\n",
              "      <td>0.187824</td>\n",
              "      <td>3.748635</td>\n",
              "      <td>1.444060</td>\n",
              "      <td>0.057911</td>\n",
              "      <td>8.655898</td>\n",
              "      <td>7.226290</td>\n",
              "      <td>2455.739903</td>\n",
              "      <td>0.139417</td>\n",
              "    </tr>\n",
              "    <tr>\n",
              "      <th>min</th>\n",
              "      <td>1.000000</td>\n",
              "      <td>1.210000</td>\n",
              "      <td>12.000000</td>\n",
              "      <td>2.500000</td>\n",
              "      <td>0.700000</td>\n",
              "      <td>20.000000</td>\n",
              "      <td>20.000000</td>\n",
              "      <td>1500.050000</td>\n",
              "      <td>0.610000</td>\n",
              "    </tr>\n",
              "    <tr>\n",
              "      <th>25%</th>\n",
              "      <td>3.260000</td>\n",
              "      <td>1.370000</td>\n",
              "      <td>15.260000</td>\n",
              "      <td>3.750000</td>\n",
              "      <td>0.750000</td>\n",
              "      <td>27.460000</td>\n",
              "      <td>26.230000</td>\n",
              "      <td>3627.880000</td>\n",
              "      <td>0.660000</td>\n",
              "    </tr>\n",
              "    <tr>\n",
              "      <th>50%</th>\n",
              "      <td>5.500000</td>\n",
              "      <td>1.540000</td>\n",
              "      <td>18.510000</td>\n",
              "      <td>4.990000</td>\n",
              "      <td>0.800000</td>\n",
              "      <td>34.970000</td>\n",
              "      <td>32.490000</td>\n",
              "      <td>5753.770000</td>\n",
              "      <td>0.820000</td>\n",
              "    </tr>\n",
              "    <tr>\n",
              "      <th>75%</th>\n",
              "      <td>7.740000</td>\n",
              "      <td>1.700000</td>\n",
              "      <td>21.750000</td>\n",
              "      <td>6.250000</td>\n",
              "      <td>0.850000</td>\n",
              "      <td>42.470000</td>\n",
              "      <td>38.760000</td>\n",
              "      <td>7886.650000</td>\n",
              "      <td>0.970000</td>\n",
              "    </tr>\n",
              "    <tr>\n",
              "      <th>max</th>\n",
              "      <td>10.000000</td>\n",
              "      <td>1.860000</td>\n",
              "      <td>25.000000</td>\n",
              "      <td>7.500000</td>\n",
              "      <td>0.900000</td>\n",
              "      <td>50.000000</td>\n",
              "      <td>45.000000</td>\n",
              "      <td>9999.970000</td>\n",
              "      <td>1.000000</td>\n",
              "    </tr>\n",
              "  </tbody>\n",
              "</table>\n",
              "</div>"
            ],
            "text/plain": [
              "         Color Score        Density  Water Content             pH  \\\n",
              "count  247903.000000  247903.000000  247903.000000  247903.000000   \n",
              "mean        5.500259       1.535523      18.502625       4.996047   \n",
              "std         2.593947       0.187824       3.748635       1.444060   \n",
              "min         1.000000       1.210000      12.000000       2.500000   \n",
              "25%         3.260000       1.370000      15.260000       3.750000   \n",
              "50%         5.500000       1.540000      18.510000       4.990000   \n",
              "75%         7.740000       1.700000      21.750000       6.250000   \n",
              "max        10.000000       1.860000      25.000000       7.500000   \n",
              "\n",
              "       Electrical Conductivity  Fructose Level  Glucose Level      Viscosity  \\\n",
              "count            247903.000000   247903.000000  247903.000000  247903.000000   \n",
              "mean                  0.799974       34.970573      32.501006    5752.893888   \n",
              "std                   0.057911        8.655898       7.226290    2455.739903   \n",
              "min                   0.700000       20.000000      20.000000    1500.050000   \n",
              "25%                   0.750000       27.460000      26.230000    3627.880000   \n",
              "50%                   0.800000       34.970000      32.490000    5753.770000   \n",
              "75%                   0.850000       42.470000      38.760000    7886.650000   \n",
              "max                   0.900000       50.000000      45.000000    9999.970000   \n",
              "\n",
              "              Purity  \n",
              "count  247903.000000  \n",
              "mean        0.824471  \n",
              "std         0.139417  \n",
              "min         0.610000  \n",
              "25%         0.660000  \n",
              "50%         0.820000  \n",
              "75%         0.970000  \n",
              "max         1.000000  "
            ]
          },
          "execution_count": 78,
          "metadata": {},
          "output_type": "execute_result"
        }
      ],
      "source": [
        "df.describe()"
      ]
    },
    {
      "cell_type": "markdown",
      "metadata": {},
      "source": [
        "Observation:\n",
        "There are no Outliers in dataset"
      ]
    },
    {
      "cell_type": "code",
      "execution_count": 79,
      "metadata": {},
      "outputs": [],
      "source": [
        "num_features = ['Color Score', 'Density', 'Water Content', 'pH', 'Electrical Conductivity', 'Fructose Level', 'Glucose Level', 'Viscosity', 'Purity']\n",
        "cat_features = [\"Pollen Analysis\"]"
      ]
    },
    {
      "cell_type": "code",
      "execution_count": 80,
      "metadata": {
        "colab": {
          "base_uri": "https://localhost:8080/"
        },
        "id": "l6xkpCo30mwi",
        "outputId": "353cfbb6-c26e-4dca-ad8d-c0588400489e"
      },
      "outputs": [
        {
          "data": {
            "text/plain": [
              "array(['Blueberry', 'Alfalfa', 'Chestnut', 'Borage', 'Sunflower',\n",
              "       'Orange Blossom', 'Acacia', 'Tupelo', 'Clover', 'Wildflower',\n",
              "       'Thyme', 'Sage', 'Avocado', 'Lavender', 'Eucalyptus', 'Buckwheat',\n",
              "       'Rosemary', 'Heather', 'Manuka'], dtype=object)"
            ]
          },
          "execution_count": 80,
          "metadata": {},
          "output_type": "execute_result"
        }
      ],
      "source": [
        "df['Pollen Analysis'].unique()"
      ]
    },
    {
      "cell_type": "markdown",
      "metadata": {},
      "source": [
        "## Visualizations"
      ]
    },
    {
      "cell_type": "code",
      "execution_count": 143,
      "metadata": {
        "colab": {
          "base_uri": "https://localhost:8080/",
          "height": 564
        },
        "collapsed": true,
        "id": "Rldi0FRoHKhj",
        "outputId": "b99ac208-f682-46c2-a262-e169812c37ae"
      },
      "outputs": [
        {
          "data": {
            "image/png": "[encoded data removed]",
            "text/plain": [
              "<Figure size 2200x500 with 1 Axes>"
            ]
          },
          "metadata": {},
          "output_type": "display_data"
        }
      ],
      "source": [
        "plt.figure(figsize=(22, 5))\n",
        "ax = sns.countplot(x=df[\"Pollen Analysis\"], palette='Set1')\n",
        "ax.set_facecolor (\"darkgrey\")\n",
        "plt.gcf().set_facecolor('darkgrey')\n",
        "plt.title(\"Pollen Types Distribution\", color = \"blue\", fontweight = \"bold\", fontsize = 20)\n",
        "plt.ylabel('Count', color = \"green\", fontweight = \"bold\", fontsize = 16)\n",
        "plt.xlabel(\"Pollen Analysis\", color = \"green\", fontweight = \"bold\", fontsize = 16)\n",
        "plt.show()"
      ]
    },
    {
      "cell_type": "code",
      "execution_count": 194,
      "metadata": {},
      "outputs": [
        {
          "data": {
            "image/png": "[encoded data removed]",
            "text/plain": [
              "<Figure size 1500x800 with 1 Axes>"
            ]
          },
          "metadata": {},
          "output_type": "display_data"
        }
      ],
      "source": [
        "pollen_analysis = df[\"Pollen Analysis\"].value_counts().to_dict()\n",
        "plt.figure(figsize = (15, 8))\n",
        "plt.pie(pollen_analysis.values(), labels = pollen_analysis.keys(), autopct = '%1.1f%%', startangle = 90)\n",
        "plt.title('Pollen Analysis Pie Chart', color = 'green', fontsize = 20)\n",
        "plt.axis('equal')\n",
        "plt.gcf().set_facecolor('lightblue')\n",
        "\n",
        "\n",
        "plt.show()"
      ]
    },
    {
      "cell_type": "markdown",
      "metadata": {},
      "source": [
        "Observation:\n",
        "By seeing the pie chart all the floral source of honey are almost eqaully contributed in this dataset."
      ]
    },
    {
      "cell_type": "code",
      "execution_count": 171,
      "metadata": {},
      "outputs": [
        {
          "data": {
            "image/png": "[encoded data removed]",
            "text/plain": [
              "<Figure size 2000x1500 with 9 Axes>"
            ]
          },
          "metadata": {},
          "output_type": "display_data"
        }
      ],
      "source": [
        "plt.figure(figsize=(20, 15))\n",
        "i = 1\n",
        "for  variable in (num_features):\n",
        "    plt.subplot(4,3, i)\n",
        "    sns.histplot(x = df[variable],kde = True, color = \"purple\")\n",
        "    plt.title(variable)\n",
        "    i += 1\n",
        "    plt.xlabel('')\n",
        "plt.show()"
      ]
    },
    {
      "cell_type": "code",
      "execution_count": 169,
      "metadata": {},
      "outputs": [
        {
          "data": {
            "image/png": "[encoded data removed]",
            "text/plain": [
              "<Figure size 2000x1000 with 9 Axes>"
            ]
          },
          "metadata": {},
          "output_type": "display_data"
        }
      ],
      "source": [
        "plt.figure(figsize = (20, 10))\n",
        "i = 1\n",
        "for  variable in (num_features):\n",
        "    plt.subplot(2,5, i)\n",
        "    sns.boxplot(x=df[variable],color = \"red\")\n",
        "    plt.title(variable)\n",
        "    i+= 1\n",
        "plt.tight_layout()\n",
        "plt.show()"
      ]
    },
    {
      "cell_type": "markdown",
      "metadata": {},
      "source": [
        "Observation:\n",
        "- No outliers in data"
      ]
    },
    {
      "cell_type": "markdown",
      "metadata": {},
      "source": [
        "# Machine Learnig & Deep Learning Models"
      ]
    },
    {
      "cell_type": "markdown",
      "metadata": {},
      "source": [
        "### Standard Scaling"
      ]
    },
    {
      "cell_type": "code",
      "execution_count": 84,
      "metadata": {},
      "outputs": [],
      "source": [
        "num_cols = ['Color Score', 'Density', 'Water Content', 'pH', 'Electrical Conductivity', 'Fructose Level', 'Glucose Level', 'Viscosity']\n",
        "cat_cols = [\"Pollen Analysis\"]\n",
        "df_num = df[num_cols]\n",
        "df_cat = df[cat_cols]"
      ]
    },
    {
      "cell_type": "code",
      "execution_count": 85,
      "metadata": {},
      "outputs": [],
      "source": [
        "df_cat_enc = pd.get_dummies(df_cat, columns = cat_cols).astype(int)"
      ]
    },
    {
      "cell_type": "code",
      "execution_count": 86,
      "metadata": {},
      "outputs": [],
      "source": [
        "scaler = StandardScaler()\n",
        "df_num = pd.DataFrame(scaler.fit_transform(df_num), columns=num_cols)"
      ]
    },
    {
      "cell_type": "code",
      "execution_count": 196,
      "metadata": {},
      "outputs": [
        {
          "data": {
            "text/plain": [
              "Index(['Color Score', 'Density', 'Water Content', 'pH',\n",
              "       'Electrical Conductivity', 'Fructose Level', 'Glucose Level',\n",
              "       'Viscosity', 'Pollen Analysis_Acacia', 'Pollen Analysis_Alfalfa',\n",
              "       'Pollen Analysis_Avocado', 'Pollen Analysis_Blueberry',\n",
              "       'Pollen Analysis_Borage', 'Pollen Analysis_Buckwheat',\n",
              "       'Pollen Analysis_Chestnut', 'Pollen Analysis_Clover',\n",
              "       'Pollen Analysis_Eucalyptus', 'Pollen Analysis_Heather',\n",
              "       'Pollen Analysis_Lavender', 'Pollen Analysis_Manuka',\n",
              "       'Pollen Analysis_Orange Blossom', 'Pollen Analysis_Rosemary',\n",
              "       'Pollen Analysis_Sage', 'Pollen Analysis_Sunflower',\n",
              "       'Pollen Analysis_Thyme', 'Pollen Analysis_Tupelo',\n",
              "       'Pollen Analysis_Wildflower'],\n",
              "      dtype='object')"
            ]
          },
          "execution_count": 196,
          "metadata": {},
          "output_type": "execute_result"
        }
      ],
      "source": [
        "final_df = pd.concat([df_num, df_cat_enc], axis=1)\n",
        "final_df.columns"
      ]
    },
    {
      "cell_type": "code",
      "execution_count": 90,
      "metadata": {
        "colab": {
          "base_uri": "https://localhost:8080/",
          "height": 424
        },
        "id": "r8W_KTGA15xu",
        "outputId": "a0eacae7-5ac3-47b6-9025-0a5eac5809bf"
      },
      "outputs": [
        {
          "data": {
            "text/html": [
              "<div>\n",
              "<style scoped>\n",
              "    .dataframe tbody tr th:only-of-type {\n",
              "        vertical-align: middle;\n",
              "    }\n",
              "\n",
              "    .dataframe tbody tr th {\n",
              "        vertical-align: top;\n",
              "    }\n",
              "\n",
              "    .dataframe thead th {\n",
              "        text-align: right;\n",
              "    }\n",
              "</style>\n",
              "<table border=\"1\" class=\"dataframe\">\n",
              "  <thead>\n",
              "    <tr style=\"text-align: right;\">\n",
              "      <th></th>\n",
              "      <th>Color Score</th>\n",
              "      <th>Density</th>\n",
              "      <th>Water Content</th>\n",
              "      <th>pH</th>\n",
              "      <th>Electrical Conductivity</th>\n",
              "      <th>Fructose Level</th>\n",
              "      <th>Glucose Level</th>\n",
              "      <th>Viscosity</th>\n",
              "      <th>Pollen Analysis_Acacia</th>\n",
              "      <th>Pollen Analysis_Alfalfa</th>\n",
              "      <th>...</th>\n",
              "      <th>Pollen Analysis_Heather</th>\n",
              "      <th>Pollen Analysis_Lavender</th>\n",
              "      <th>Pollen Analysis_Manuka</th>\n",
              "      <th>Pollen Analysis_Orange Blossom</th>\n",
              "      <th>Pollen Analysis_Rosemary</th>\n",
              "      <th>Pollen Analysis_Sage</th>\n",
              "      <th>Pollen Analysis_Sunflower</th>\n",
              "      <th>Pollen Analysis_Thyme</th>\n",
              "      <th>Pollen Analysis_Tupelo</th>\n",
              "      <th>Pollen Analysis_Wildflower</th>\n",
              "    </tr>\n",
              "  </thead>\n",
              "  <tbody>\n",
              "    <tr>\n",
              "      <th>0</th>\n",
              "      <td>-1.037132</td>\n",
              "      <td>1.141911</td>\n",
              "      <td>1.210410</td>\n",
              "      <td>0.896054</td>\n",
              "      <td>-0.690263</td>\n",
              "      <td>0.467824</td>\n",
              "      <td>0.156235</td>\n",
              "      <td>-0.369907</td>\n",
              "      <td>0</td>\n",
              "      <td>0</td>\n",
              "      <td>...</td>\n",
              "      <td>0</td>\n",
              "      <td>0</td>\n",
              "      <td>0</td>\n",
              "      <td>0</td>\n",
              "      <td>0</td>\n",
              "      <td>0</td>\n",
              "      <td>0</td>\n",
              "      <td>0</td>\n",
              "      <td>0</td>\n",
              "      <td>0</td>\n",
              "    </tr>\n",
              "    <tr>\n",
              "      <th>1</th>\n",
              "      <td>1.530390</td>\n",
              "      <td>1.514602</td>\n",
              "      <td>-0.267465</td>\n",
              "      <td>1.526222</td>\n",
              "      <td>-1.553653</td>\n",
              "      <td>0.367314</td>\n",
              "      <td>0.264174</td>\n",
              "      <td>0.381200</td>\n",
              "      <td>0</td>\n",
              "      <td>1</td>\n",
              "      <td>...</td>\n",
              "      <td>0</td>\n",
              "      <td>0</td>\n",
              "      <td>0</td>\n",
              "      <td>0</td>\n",
              "      <td>0</td>\n",
              "      <td>0</td>\n",
              "      <td>0</td>\n",
              "      <td>0</td>\n",
              "      <td>0</td>\n",
              "      <td>0</td>\n",
              "    </tr>\n",
              "    <tr>\n",
              "      <th>2</th>\n",
              "      <td>-0.343207</td>\n",
              "      <td>1.621085</td>\n",
              "      <td>1.391809</td>\n",
              "      <td>1.602397</td>\n",
              "      <td>0.000449</td>\n",
              "      <td>-0.866529</td>\n",
              "      <td>0.257255</td>\n",
              "      <td>0.460435</td>\n",
              "      <td>0</td>\n",
              "      <td>0</td>\n",
              "      <td>...</td>\n",
              "      <td>0</td>\n",
              "      <td>0</td>\n",
              "      <td>0</td>\n",
              "      <td>0</td>\n",
              "      <td>0</td>\n",
              "      <td>0</td>\n",
              "      <td>0</td>\n",
              "      <td>0</td>\n",
              "      <td>0</td>\n",
              "      <td>0</td>\n",
              "    </tr>\n",
              "    <tr>\n",
              "      <th>3</th>\n",
              "      <td>-1.438066</td>\n",
              "      <td>-0.721543</td>\n",
              "      <td>-0.504885</td>\n",
              "      <td>-0.682831</td>\n",
              "      <td>-0.344907</td>\n",
              "      <td>-0.398639</td>\n",
              "      <td>-0.602109</td>\n",
              "      <td>0.576066</td>\n",
              "      <td>0</td>\n",
              "      <td>0</td>\n",
              "      <td>...</td>\n",
              "      <td>0</td>\n",
              "      <td>0</td>\n",
              "      <td>0</td>\n",
              "      <td>0</td>\n",
              "      <td>0</td>\n",
              "      <td>0</td>\n",
              "      <td>0</td>\n",
              "      <td>0</td>\n",
              "      <td>0</td>\n",
              "      <td>0</td>\n",
              "    </tr>\n",
              "    <tr>\n",
              "      <th>4</th>\n",
              "      <td>0.235064</td>\n",
              "      <td>-1.520166</td>\n",
              "      <td>0.300743</td>\n",
              "      <td>-0.121912</td>\n",
              "      <td>1.727230</td>\n",
              "      <td>-0.614677</td>\n",
              "      <td>1.386467</td>\n",
              "      <td>-0.255506</td>\n",
              "      <td>0</td>\n",
              "      <td>1</td>\n",
              "      <td>...</td>\n",
              "      <td>0</td>\n",
              "      <td>0</td>\n",
              "      <td>0</td>\n",
              "      <td>0</td>\n",
              "      <td>0</td>\n",
              "      <td>0</td>\n",
              "      <td>0</td>\n",
              "      <td>0</td>\n",
              "      <td>0</td>\n",
              "      <td>0</td>\n",
              "    </tr>\n",
              "    <tr>\n",
              "      <th>...</th>\n",
              "      <td>...</td>\n",
              "      <td>...</td>\n",
              "      <td>...</td>\n",
              "      <td>...</td>\n",
              "      <td>...</td>\n",
              "      <td>...</td>\n",
              "      <td>...</td>\n",
              "      <td>...</td>\n",
              "      <td>...</td>\n",
              "      <td>...</td>\n",
              "      <td>...</td>\n",
              "      <td>...</td>\n",
              "      <td>...</td>\n",
              "      <td>...</td>\n",
              "      <td>...</td>\n",
              "      <td>...</td>\n",
              "      <td>...</td>\n",
              "      <td>...</td>\n",
              "      <td>...</td>\n",
              "      <td>...</td>\n",
              "      <td>...</td>\n",
              "    </tr>\n",
              "    <tr>\n",
              "      <th>247898</th>\n",
              "      <td>-1.357108</td>\n",
              "      <td>-1.307200</td>\n",
              "      <td>-0.160759</td>\n",
              "      <td>-0.121912</td>\n",
              "      <td>1.554552</td>\n",
              "      <td>0.130481</td>\n",
              "      <td>0.302921</td>\n",
              "      <td>1.021583</td>\n",
              "      <td>0</td>\n",
              "      <td>0</td>\n",
              "      <td>...</td>\n",
              "      <td>0</td>\n",
              "      <td>0</td>\n",
              "      <td>0</td>\n",
              "      <td>0</td>\n",
              "      <td>1</td>\n",
              "      <td>0</td>\n",
              "      <td>0</td>\n",
              "      <td>0</td>\n",
              "      <td>0</td>\n",
              "      <td>0</td>\n",
              "    </tr>\n",
              "    <tr>\n",
              "      <th>247899</th>\n",
              "      <td>0.262050</td>\n",
              "      <td>0.715979</td>\n",
              "      <td>0.276734</td>\n",
              "      <td>-0.059587</td>\n",
              "      <td>0.863839</td>\n",
              "      <td>-0.441385</td>\n",
              "      <td>-1.616463</td>\n",
              "      <td>0.483153</td>\n",
              "      <td>1</td>\n",
              "      <td>0</td>\n",
              "      <td>...</td>\n",
              "      <td>0</td>\n",
              "      <td>0</td>\n",
              "      <td>0</td>\n",
              "      <td>0</td>\n",
              "      <td>0</td>\n",
              "      <td>0</td>\n",
              "      <td>0</td>\n",
              "      <td>0</td>\n",
              "      <td>0</td>\n",
              "      <td>0</td>\n",
              "    </tr>\n",
              "    <tr>\n",
              "      <th>247900</th>\n",
              "      <td>0.878871</td>\n",
              "      <td>-0.242369</td>\n",
              "      <td>-0.726299</td>\n",
              "      <td>0.480558</td>\n",
              "      <td>-1.208297</td>\n",
              "      <td>1.112472</td>\n",
              "      <td>1.600962</td>\n",
              "      <td>-0.656872</td>\n",
              "      <td>0</td>\n",
              "      <td>0</td>\n",
              "      <td>...</td>\n",
              "      <td>0</td>\n",
              "      <td>0</td>\n",
              "      <td>0</td>\n",
              "      <td>0</td>\n",
              "      <td>0</td>\n",
              "      <td>0</td>\n",
              "      <td>0</td>\n",
              "      <td>0</td>\n",
              "      <td>0</td>\n",
              "      <td>0</td>\n",
              "    </tr>\n",
              "    <tr>\n",
              "      <th>247901</th>\n",
              "      <td>0.107844</td>\n",
              "      <td>1.088670</td>\n",
              "      <td>-0.945046</td>\n",
              "      <td>1.256150</td>\n",
              "      <td>0.518483</td>\n",
              "      <td>1.411691</td>\n",
              "      <td>0.731911</td>\n",
              "      <td>-0.543688</td>\n",
              "      <td>0</td>\n",
              "      <td>0</td>\n",
              "      <td>...</td>\n",
              "      <td>0</td>\n",
              "      <td>0</td>\n",
              "      <td>0</td>\n",
              "      <td>0</td>\n",
              "      <td>0</td>\n",
              "      <td>0</td>\n",
              "      <td>0</td>\n",
              "      <td>0</td>\n",
              "      <td>0</td>\n",
              "      <td>0</td>\n",
              "    </tr>\n",
              "    <tr>\n",
              "      <th>247902</th>\n",
              "      <td>1.333778</td>\n",
              "      <td>1.727568</td>\n",
              "      <td>0.031311</td>\n",
              "      <td>1.311549</td>\n",
              "      <td>1.036517</td>\n",
              "      <td>-1.043288</td>\n",
              "      <td>1.436285</td>\n",
              "      <td>0.963755</td>\n",
              "      <td>0</td>\n",
              "      <td>0</td>\n",
              "      <td>...</td>\n",
              "      <td>0</td>\n",
              "      <td>1</td>\n",
              "      <td>0</td>\n",
              "      <td>0</td>\n",
              "      <td>0</td>\n",
              "      <td>0</td>\n",
              "      <td>0</td>\n",
              "      <td>0</td>\n",
              "      <td>0</td>\n",
              "      <td>0</td>\n",
              "    </tr>\n",
              "  </tbody>\n",
              "</table>\n",
              "<p>247903 rows × 27 columns</p>\n",
              "</div>"
            ],
            "text/plain": [
              "        Color Score   Density  Water Content        pH  \\\n",
              "0         -1.037132  1.141911       1.210410  0.896054   \n",
              "1          1.530390  1.514602      -0.267465  1.526222   \n",
              "2         -0.343207  1.621085       1.391809  1.602397   \n",
              "3         -1.438066 -0.721543      -0.504885 -0.682831   \n",
              "4          0.235064 -1.520166       0.300743 -0.121912   \n",
              "...             ...       ...            ...       ...   \n",
              "247898    -1.357108 -1.307200      -0.160759 -0.121912   \n",
              "247899     0.262050  0.715979       0.276734 -0.059587   \n",
              "247900     0.878871 -0.242369      -0.726299  0.480558   \n",
              "247901     0.107844  1.088670      -0.945046  1.256150   \n",
              "247902     1.333778  1.727568       0.031311  1.311549   \n",
              "\n",
              "        Electrical Conductivity  Fructose Level  Glucose Level  Viscosity  \\\n",
              "0                     -0.690263        0.467824       0.156235  -0.369907   \n",
              "1                     -1.553653        0.367314       0.264174   0.381200   \n",
              "2                      0.000449       -0.866529       0.257255   0.460435   \n",
              "3                     -0.344907       -0.398639      -0.602109   0.576066   \n",
              "4                      1.727230       -0.614677       1.386467  -0.255506   \n",
              "...                         ...             ...            ...        ...   \n",
              "247898                 1.554552        0.130481       0.302921   1.021583   \n",
              "247899                 0.863839       -0.441385      -1.616463   0.483153   \n",
              "247900                -1.208297        1.112472       1.600962  -0.656872   \n",
              "247901                 0.518483        1.411691       0.731911  -0.543688   \n",
              "247902                 1.036517       -1.043288       1.436285   0.963755   \n",
              "\n",
              "        Pollen Analysis_Acacia  Pollen Analysis_Alfalfa  ...  \\\n",
              "0                            0                        0  ...   \n",
              "1                            0                        1  ...   \n",
              "2                            0                        0  ...   \n",
              "3                            0                        0  ...   \n",
              "4                            0                        1  ...   \n",
              "...                        ...                      ...  ...   \n",
              "247898                       0                        0  ...   \n",
              "247899                       1                        0  ...   \n",
              "247900                       0                        0  ...   \n",
              "247901                       0                        0  ...   \n",
              "247902                       0                        0  ...   \n",
              "\n",
              "        Pollen Analysis_Heather  Pollen Analysis_Lavender  \\\n",
              "0                             0                         0   \n",
              "1                             0                         0   \n",
              "2                             0                         0   \n",
              "3                             0                         0   \n",
              "4                             0                         0   \n",
              "...                         ...                       ...   \n",
              "247898                        0                         0   \n",
              "247899                        0                         0   \n",
              "247900                        0                         0   \n",
              "247901                        0                         0   \n",
              "247902                        0                         1   \n",
              "\n",
              "        Pollen Analysis_Manuka  Pollen Analysis_Orange Blossom  \\\n",
              "0                            0                               0   \n",
              "1                            0                               0   \n",
              "2                            0                               0   \n",
              "3                            0                               0   \n",
              "4                            0                               0   \n",
              "...                        ...                             ...   \n",
              "247898                       0                               0   \n",
              "247899                       0                               0   \n",
              "247900                       0                               0   \n",
              "247901                       0                               0   \n",
              "247902                       0                               0   \n",
              "\n",
              "        Pollen Analysis_Rosemary  Pollen Analysis_Sage  \\\n",
              "0                              0                     0   \n",
              "1                              0                     0   \n",
              "2                              0                     0   \n",
              "3                              0                     0   \n",
              "4                              0                     0   \n",
              "...                          ...                   ...   \n",
              "247898                         1                     0   \n",
              "247899                         0                     0   \n",
              "247900                         0                     0   \n",
              "247901                         0                     0   \n",
              "247902                         0                     0   \n",
              "\n",
              "        Pollen Analysis_Sunflower  Pollen Analysis_Thyme  \\\n",
              "0                               0                      0   \n",
              "1                               0                      0   \n",
              "2                               0                      0   \n",
              "3                               0                      0   \n",
              "4                               0                      0   \n",
              "...                           ...                    ...   \n",
              "247898                          0                      0   \n",
              "247899                          0                      0   \n",
              "247900                          0                      0   \n",
              "247901                          0                      0   \n",
              "247902                          0                      0   \n",
              "\n",
              "        Pollen Analysis_Tupelo  Pollen Analysis_Wildflower  \n",
              "0                            0                           0  \n",
              "1                            0                           0  \n",
              "2                            0                           0  \n",
              "3                            0                           0  \n",
              "4                            0                           0  \n",
              "...                        ...                         ...  \n",
              "247898                       0                           0  \n",
              "247899                       0                           0  \n",
              "247900                       0                           0  \n",
              "247901                       0                           0  \n",
              "247902                       0                           0  \n",
              "\n",
              "[247903 rows x 27 columns]"
            ]
          },
          "execution_count": 90,
          "metadata": {},
          "output_type": "execute_result"
        }
      ],
      "source": [
        "final_df"
      ]
    },
    {
      "cell_type": "markdown",
      "metadata": {},
      "source": [
        "### Split Data into Input & Target variables"
      ]
    },
    {
      "cell_type": "code",
      "execution_count": 91,
      "metadata": {
        "id": "XVdnVs3S15se"
      },
      "outputs": [],
      "source": [
        "X = final_df\n",
        "y = df['Purity']"
      ]
    },
    {
      "cell_type": "markdown",
      "metadata": {},
      "source": [
        "### Split Data into Train & Test data"
      ]
    },
    {
      "cell_type": "code",
      "execution_count": 93,
      "metadata": {},
      "outputs": [],
      "source": [
        "X_train, X_test, y_train, y_test = train_test_split(X, y, test_size=0.2, random_state=42)"
      ]
    },
    {
      "cell_type": "code",
      "execution_count": 198,
      "metadata": {},
      "outputs": [
        {
          "name": "stdout",
          "output_type": "stream",
          "text": [
            "(247903, 27) (198322, 27)\n"
          ]
        }
      ],
      "source": [
        "print(final_df.shape, X_train.shape)"
      ]
    },
    {
      "cell_type": "code",
      "execution_count": 149,
      "metadata": {},
      "outputs": [
        {
          "name": "stdout",
          "output_type": "stream",
          "text": [
            "Any NaNs in X_train: Color Score                       False\n",
            "Density                           False\n",
            "Water Content                     False\n",
            "pH                                False\n",
            "Electrical Conductivity           False\n",
            "Fructose Level                    False\n",
            "Glucose Level                     False\n",
            "Viscosity                         False\n",
            "Pollen Analysis_Acacia            False\n",
            "Pollen Analysis_Alfalfa           False\n",
            "Pollen Analysis_Avocado           False\n",
            "Pollen Analysis_Blueberry         False\n",
            "Pollen Analysis_Borage            False\n",
            "Pollen Analysis_Buckwheat         False\n",
            "Pollen Analysis_Chestnut          False\n",
            "Pollen Analysis_Clover            False\n",
            "Pollen Analysis_Eucalyptus        False\n",
            "Pollen Analysis_Heather           False\n",
            "Pollen Analysis_Lavender          False\n",
            "Pollen Analysis_Manuka            False\n",
            "Pollen Analysis_Orange Blossom    False\n",
            "Pollen Analysis_Rosemary          False\n",
            "Pollen Analysis_Sage              False\n",
            "Pollen Analysis_Sunflower         False\n",
            "Pollen Analysis_Thyme             False\n",
            "Pollen Analysis_Tupelo            False\n",
            "Pollen Analysis_Wildflower        False\n",
            "dtype: bool\n",
            "Any Infs in X_train: Color Score                       False\n",
            "Density                           False\n",
            "Water Content                     False\n",
            "pH                                False\n",
            "Electrical Conductivity           False\n",
            "Fructose Level                    False\n",
            "Glucose Level                     False\n",
            "Viscosity                         False\n",
            "Pollen Analysis_Acacia            False\n",
            "Pollen Analysis_Alfalfa           False\n",
            "Pollen Analysis_Avocado           False\n",
            "Pollen Analysis_Blueberry         False\n",
            "Pollen Analysis_Borage            False\n",
            "Pollen Analysis_Buckwheat         False\n",
            "Pollen Analysis_Chestnut          False\n",
            "Pollen Analysis_Clover            False\n",
            "Pollen Analysis_Eucalyptus        False\n",
            "Pollen Analysis_Heather           False\n",
            "Pollen Analysis_Lavender          False\n",
            "Pollen Analysis_Manuka            False\n",
            "Pollen Analysis_Orange Blossom    False\n",
            "Pollen Analysis_Rosemary          False\n",
            "Pollen Analysis_Sage              False\n",
            "Pollen Analysis_Sunflower         False\n",
            "Pollen Analysis_Thyme             False\n",
            "Pollen Analysis_Tupelo            False\n",
            "Pollen Analysis_Wildflower        False\n",
            "dtype: bool\n",
            "Any NaNs in y_train: False\n",
            "Any Infs in y_train: False\n"
          ]
        }
      ],
      "source": [
        "# Check for NaNs and Infs in X_train_scaled\n",
        "print(\"Any NaNs in X_train:\", np.isnan(X_train).any())\n",
        "print(\"Any Infs in X_train:\", np.isinf(X_train).any())\n",
        "\n",
        "# Check for NaNs and Infs in y_train\n",
        "print(\"Any NaNs in y_train:\", np.isnan(y_train).any())\n",
        "print(\"Any Infs in y_train:\", np.isinf(y_train).any())"
      ]
    },
    {
      "cell_type": "markdown",
      "metadata": {},
      "source": [
        "### Linear Regression Model"
      ]
    },
    {
      "cell_type": "code",
      "execution_count": 96,
      "metadata": {
        "colab": {
          "base_uri": "https://localhost:8080/"
        },
        "id": "Nu7O0DhU15m5",
        "outputId": "e46086e9-b27c-48e1-94a9-fe0b45c50216"
      },
      "outputs": [
        {
          "name": "stdout",
          "output_type": "stream",
          "text": [
            "Linear Regression R2 Score: 0.07337\n"
          ]
        }
      ],
      "source": [
        "lr = LinearRegression()\n",
        "lr.fit(X_train, y_train)\n",
        "y_pred_lr = lr.predict(X_test)\n",
        "print(f\"Linear Regression R2 Score: {r2_score(y_test, y_pred_lr):.4}\")"
      ]
    },
    {
      "cell_type": "markdown",
      "metadata": {},
      "source": [
        "### XGBoost Regressor"
      ]
    },
    {
      "cell_type": "code",
      "execution_count": 98,
      "metadata": {
        "colab": {
          "base_uri": "https://localhost:8080/"
        },
        "id": "2TbhRppJ9fIb",
        "outputId": "32189a5d-fbc7-4917-9ebe-9941e8aa1172"
      },
      "outputs": [
        {
          "name": "stdout",
          "output_type": "stream",
          "text": [
            "XGBoost R2 Score: 0.9785\n"
          ]
        }
      ],
      "source": [
        "xgb_reg = XGBRegressor()\n",
        "xgb_reg.fit(X_train, y_train)\n",
        "y_pred_xgb = xgb_reg.predict(X_test)\n",
        "print(f\"XGBoost R2 Score: {r2_score(y_test, y_pred_xgb):.4}\")"
      ]
    },
    {
      "cell_type": "markdown",
      "metadata": {},
      "source": [
        "### Gradient Boosting Regressor"
      ]
    },
    {
      "cell_type": "code",
      "execution_count": 99,
      "metadata": {
        "colab": {
          "base_uri": "https://localhost:8080/"
        },
        "id": "k1TmmleJ15eY",
        "outputId": "40f2ebdc-5db5-40dc-f633-d4098a5389dc"
      },
      "outputs": [
        {
          "name": "stdout",
          "output_type": "stream",
          "text": [
            "GBR R2 Score: 0.9528\n"
          ]
        }
      ],
      "source": [
        "gbr = GradientBoostingRegressor()\n",
        "gbr.fit(X_train, y_train)\n",
        "y_pred_gbr = gbr.predict(X_test)\n",
        "print(f\"GBR R2 Score: {r2_score(y_test, y_pred_gbr):.4}\")"
      ]
    },
    {
      "cell_type": "markdown",
      "metadata": {},
      "source": [
        "### Decision Tree Regressor"
      ]
    },
    {
      "cell_type": "code",
      "execution_count": 100,
      "metadata": {
        "colab": {
          "base_uri": "https://localhost:8080/"
        },
        "id": "Isk33ltw4q4S",
        "outputId": "59a1892f-1f3d-4522-d095-6350ed449579"
      },
      "outputs": [
        {
          "name": "stdout",
          "output_type": "stream",
          "text": [
            "Decision Tree Regressor R2 Score: 0.8551\n"
          ]
        }
      ],
      "source": [
        "dt_reg = DecisionTreeRegressor(max_depth=5, min_samples_split=5, min_samples_leaf=2)\n",
        "dt_reg.fit(X_train, y_train)\n",
        "y_pred_dtr = dt_reg.predict(X_test)\n",
        "print(f\"Decision Tree Regressor R2 Score: {r2_score(y_test, y_pred_dtr):.4}\")"
      ]
    },
    {
      "cell_type": "markdown",
      "metadata": {},
      "source": [
        "### Random Forest Regressor"
      ]
    },
    {
      "cell_type": "code",
      "execution_count": 101,
      "metadata": {
        "colab": {
          "base_uri": "https://localhost:8080/"
        },
        "id": "_PujZY37-Hg6",
        "outputId": "1599ddf8-ecc4-46e9-e442-7f4eab2320d2"
      },
      "outputs": [
        {
          "name": "stdout",
          "output_type": "stream",
          "text": [
            "Random Forest Regressor R2 Score: 0.9814\n"
          ]
        }
      ],
      "source": [
        "rfr = RandomForestRegressor(random_state = 42)\n",
        "rfr.fit(X_train, y_train)\n",
        "y_pred_rfr = rfr.predict(X_test)\n",
        "print(f\"Random Forest Regressor R2 Score: {r2_score(y_test, y_pred_rfr):.4}\")"
      ]
    },
    {
      "cell_type": "markdown",
      "metadata": {},
      "source": [
        "### AdaBoost Regressor"
      ]
    },
    {
      "cell_type": "code",
      "execution_count": 102,
      "metadata": {
        "colab": {
          "base_uri": "https://localhost:8080/"
        },
        "id": "HVB-X0Ri_EJo",
        "outputId": "078da2b7-5224-4428-e2e0-410e9c7c2c40"
      },
      "outputs": [
        {
          "name": "stdout",
          "output_type": "stream",
          "text": [
            "ADABoost Regressor Accuracy: 0.5932\n"
          ]
        }
      ],
      "source": [
        "ada_reg = AdaBoostRegressor(n_estimators=3, random_state=42)\n",
        "ada_reg.fit(X_train, y_train)\n",
        "y_pred_ada = ada_reg.predict(X_test)\n",
        "print(f\"ADABoost Regressor Accuracy: {r2_score(y_test, y_pred_ada):.4}\")"
      ]
    },
    {
      "cell_type": "markdown",
      "metadata": {},
      "source": [
        "### Polynomial Regression"
      ]
    },
    {
      "cell_type": "code",
      "execution_count": 103,
      "metadata": {},
      "outputs": [
        {
          "name": "stdout",
          "output_type": "stream",
          "text": [
            "Polynomial Regression R2 Score: 0.2880\n"
          ]
        }
      ],
      "source": [
        "poly = PolynomialFeatures(degree=2, include_bias=False)\n",
        "X_poly_train = poly.fit_transform(X_train)\n",
        "poly_reg = LinearRegression()\n",
        "poly_reg.fit(X_poly_train, y_train)\n",
        "X_poly_test = poly.transform(X_test)\n",
        "y_pred_poly = poly_reg.predict(X_poly_test)\n",
        "print(f\"Polynomial Regression R2 Score: {r2_score(y_test, y_pred_poly):.4f}\")\n"
      ]
    },
    {
      "cell_type": "markdown",
      "metadata": {},
      "source": [
        "## Regularization"
      ]
    },
    {
      "cell_type": "markdown",
      "metadata": {},
      "source": [
        "### Lasso for Linear Regression"
      ]
    },
    {
      "cell_type": "code",
      "execution_count": 104,
      "metadata": {
        "colab": {
          "base_uri": "https://localhost:8080/"
        },
        "id": "GCbsQhXH7Egu",
        "outputId": "9e3cfd10-8fa8-43aa-95a5-a65cff5811e6"
      },
      "outputs": [
        {
          "name": "stdout",
          "output_type": "stream",
          "text": [
            "Lasso Regularization R2 Score: 0.07326\n"
          ]
        }
      ],
      "source": [
        "ls = Lasso(alpha=0.001)\n",
        "ls.fit(X_train, y_train)\n",
        "y_pred_ls = ls.predict(X_test)\n",
        "print(f\"Lasso Regularization R2 Score: {r2_score(y_test, y_pred_ls):.4}\")"
      ]
    },
    {
      "cell_type": "markdown",
      "metadata": {},
      "source": [
        "## Hyperparameter Tunning"
      ]
    },
    {
      "cell_type": "markdown",
      "metadata": {},
      "source": [
        "### GridSearchCV fro Linear Regression with Lasso"
      ]
    },
    {
      "cell_type": "code",
      "execution_count": 105,
      "metadata": {
        "colab": {
          "base_uri": "https://localhost:8080/"
        },
        "id": "fIGIOkVo9pnm",
        "outputId": "769ddc75-2473-4c0d-a8d5-1a5bf9225105"
      },
      "outputs": [
        {
          "name": "stdout",
          "output_type": "stream",
          "text": [
            "Best Hyperparameters: {'alpha': 0.01, 'random_state': 42}\n",
            "\n",
            "Accuracy for Linear Regression using GridSearchCV with Lasso:  0.05561\n"
          ]
        }
      ],
      "source": [
        "parameters = {'alpha': [0.01, 0.1, 1, 10, 100],\n",
        "             'random_state':[42]}\n",
        "grid_ls = GridSearchCV(estimator = ls, param_grid = parameters, cv = 5)\n",
        "grid_ls.fit(X_train, y_train)\n",
        "best_params_ls = grid_ls.best_params_\n",
        "accuracy_ls = grid_ls.best_score_\n",
        "print(f'Best Hyperparameters: {best_params_ls}\\n')\n",
        "print(f'Accuracy for Linear Regression using GridSearchCV with Lasso: {accuracy_ls: .4}')"
      ]
    },
    {
      "cell_type": "markdown",
      "metadata": {},
      "source": [
        "### GridSearchCV fro XGBoost Regressor"
      ]
    },
    {
      "cell_type": "code",
      "execution_count": 106,
      "metadata": {
        "colab": {
          "base_uri": "https://localhost:8080/"
        },
        "id": "__HI7VA99pk2",
        "outputId": "a68f1f13-ca45-4f16-d3a4-24e1cf28e63d"
      },
      "outputs": [
        {
          "name": "stdout",
          "output_type": "stream",
          "text": [
            "Best Hyperparameters: {'alpha': 0.1, 'random_state': 42}\n",
            "\n",
            "Accuray for XGBoost using GridSearchCV: 0.9781\n"
          ]
        }
      ],
      "source": [
        "parameters_xgb = {'alpha': [0.00001, 0.0001, 0.001, 0.01, 0.1],\n",
        "             'random_state':[42]}\n",
        "grid_xgb = GridSearchCV(estimator = xgb_reg, param_grid = parameters_xgb, cv = 5)\n",
        "grid_xgb.fit(X_train, y_train)\n",
        "best_params_grid_xgb = grid_xgb.best_params_\n",
        "best_score_grid_xgb = grid_xgb.best_score_\n",
        "print(f'Best Hyperparameters: {best_params_grid_xgb}\\n')\n",
        "print(f\"Accuray for XGBoost using GridSearchCV: {best_score_grid_xgb:.4}\")"
      ]
    },
    {
      "cell_type": "markdown",
      "metadata": {},
      "source": [
        "## ANN Model"
      ]
    },
    {
      "cell_type": "code",
      "execution_count": 116,
      "metadata": {
        "colab": {
          "base_uri": "https://localhost:8080/"
        },
        "collapsed": true,
        "id": "et7fjm-zBnVO",
        "outputId": "7316dd78-592e-4251-dfc1-b1b7639296f1"
      },
      "outputs": [
        {
          "name": "stdout",
          "output_type": "stream",
          "text": [
            "Epoch 1/50\n",
            "\u001b[1m2480/2480\u001b[0m \u001b[32m━━━━━━━━━━━━━━━━━━━━\u001b[0m\u001b[37m\u001b[0m \u001b[1m7s\u001b[0m 2ms/step - loss: 0.4392 - val_loss: 0.3999\n",
            "Epoch 2/50\n",
            "\u001b[1m2480/2480\u001b[0m \u001b[32m━━━━━━━━━━━━━━━━━━━━\u001b[0m\u001b[37m\u001b[0m \u001b[1m5s\u001b[0m 2ms/step - loss: 0.3994 - val_loss: 0.3920\n",
            "Epoch 3/50\n",
            "\u001b[1m2480/2480\u001b[0m \u001b[32m━━━━━━━━━━━━━━━━━━━━\u001b[0m\u001b[37m\u001b[0m \u001b[1m6s\u001b[0m 2ms/step - loss: 0.3904 - val_loss: 0.3890\n",
            "Epoch 4/50\n",
            "\u001b[1m2480/2480\u001b[0m \u001b[32m━━━━━━━━━━━━━━━━━━━━\u001b[0m\u001b[37m\u001b[0m \u001b[1m10s\u001b[0m 2ms/step - loss: 0.3890 - val_loss: 0.3873\n",
            "Epoch 5/50\n",
            "\u001b[1m2480/2480\u001b[0m \u001b[32m━━━━━━━━━━━━━━━━━━━━\u001b[0m\u001b[37m\u001b[0m \u001b[1m5s\u001b[0m 2ms/step - loss: 0.3875 - val_loss: 0.3880\n",
            "Epoch 6/50\n",
            "\u001b[1m2480/2480\u001b[0m \u001b[32m━━━━━━━━━━━━━━━━━━━━\u001b[0m\u001b[37m\u001b[0m \u001b[1m5s\u001b[0m 2ms/step - loss: 0.3864 - val_loss: 0.3860\n",
            "Epoch 7/50\n",
            "\u001b[1m2480/2480\u001b[0m \u001b[32m━━━━━━━━━━━━━━━━━━━━\u001b[0m\u001b[37m\u001b[0m \u001b[1m5s\u001b[0m 2ms/step - loss: 0.3861 - val_loss: 0.3856\n",
            "Epoch 8/50\n",
            "\u001b[1m2480/2480\u001b[0m \u001b[32m━━━━━━━━━━━━━━━━━━━━\u001b[0m\u001b[37m\u001b[0m \u001b[1m4s\u001b[0m 2ms/step - loss: 0.3861 - val_loss: 0.3867\n",
            "Epoch 9/50\n",
            "\u001b[1m2480/2480\u001b[0m \u001b[32m━━━━━━━━━━━━━━━━━━━━\u001b[0m\u001b[37m\u001b[0m \u001b[1m4s\u001b[0m 2ms/step - loss: 0.3858 - val_loss: 0.3851\n",
            "Epoch 10/50\n",
            "\u001b[1m2480/2480\u001b[0m \u001b[32m━━━━━━━━━━━━━━━━━━━━\u001b[0m\u001b[37m\u001b[0m \u001b[1m4s\u001b[0m 2ms/step - loss: 0.3860 - val_loss: 0.3856\n",
            "Epoch 11/50\n",
            "\u001b[1m2480/2480\u001b[0m \u001b[32m━━━━━━━━━━━━━━━━━━━━\u001b[0m\u001b[37m\u001b[0m \u001b[1m4s\u001b[0m 2ms/step - loss: 0.3850 - val_loss: 0.3850\n",
            "Epoch 12/50\n",
            "\u001b[1m2480/2480\u001b[0m \u001b[32m━━━━━━━━━━━━━━━━━━━━\u001b[0m\u001b[37m\u001b[0m \u001b[1m4s\u001b[0m 2ms/step - loss: 0.3858 - val_loss: 0.3847\n",
            "Epoch 13/50\n",
            "\u001b[1m2480/2480\u001b[0m \u001b[32m━━━━━━━━━━━━━━━━━━━━\u001b[0m\u001b[37m\u001b[0m \u001b[1m4s\u001b[0m 2ms/step - loss: 0.3853 - val_loss: 0.3847\n",
            "Epoch 14/50\n",
            "\u001b[1m2480/2480\u001b[0m \u001b[32m━━━━━━━━━━━━━━━━━━━━\u001b[0m\u001b[37m\u001b[0m \u001b[1m5s\u001b[0m 2ms/step - loss: 0.3852 - val_loss: 0.3840\n",
            "Epoch 15/50\n",
            "\u001b[1m2480/2480\u001b[0m \u001b[32m━━━━━━━━━━━━━━━━━━━━\u001b[0m\u001b[37m\u001b[0m \u001b[1m5s\u001b[0m 2ms/step - loss: 0.3848 - val_loss: 0.3853\n",
            "Epoch 16/50\n",
            "\u001b[1m2480/2480\u001b[0m \u001b[32m━━━━━━━━━━━━━━━━━━━━\u001b[0m\u001b[37m\u001b[0m \u001b[1m5s\u001b[0m 2ms/step - loss: 0.3847 - val_loss: 0.3844\n",
            "Epoch 17/50\n",
            "\u001b[1m2480/2480\u001b[0m \u001b[32m━━━━━━━━━━━━━━━━━━━━\u001b[0m\u001b[37m\u001b[0m \u001b[1m5s\u001b[0m 2ms/step - loss: 0.3847 - val_loss: 0.3842\n",
            "Epoch 18/50\n",
            "\u001b[1m2480/2480\u001b[0m \u001b[32m━━━━━━━━━━━━━━━━━━━━\u001b[0m\u001b[37m\u001b[0m \u001b[1m5s\u001b[0m 2ms/step - loss: 0.3841 - val_loss: 0.3845\n",
            "Epoch 19/50\n",
            "\u001b[1m2480/2480\u001b[0m \u001b[32m━━━━━━━━━━━━━━━━━━━━\u001b[0m\u001b[37m\u001b[0m \u001b[1m4s\u001b[0m 2ms/step - loss: 0.3840 - val_loss: 0.3840\n",
            "Epoch 20/50\n",
            "\u001b[1m2480/2480\u001b[0m \u001b[32m━━━━━━━━━━━━━━━━━━━━\u001b[0m\u001b[37m\u001b[0m \u001b[1m5s\u001b[0m 2ms/step - loss: 0.3850 - val_loss: 0.3841\n",
            "Epoch 21/50\n",
            "\u001b[1m2480/2480\u001b[0m \u001b[32m━━━━━━━━━━━━━━━━━━━━\u001b[0m\u001b[37m\u001b[0m \u001b[1m4s\u001b[0m 2ms/step - loss: 0.3845 - val_loss: 0.3836\n",
            "Epoch 22/50\n",
            "\u001b[1m2480/2480\u001b[0m \u001b[32m━━━━━━━━━━━━━━━━━━━━\u001b[0m\u001b[37m\u001b[0m \u001b[1m6s\u001b[0m 2ms/step - loss: 0.3855 - val_loss: 0.3839\n",
            "Epoch 23/50\n",
            "\u001b[1m2480/2480\u001b[0m \u001b[32m━━━━━━━━━━━━━━━━━━━━\u001b[0m\u001b[37m\u001b[0m \u001b[1m6s\u001b[0m 2ms/step - loss: 0.3851 - val_loss: 0.3843\n",
            "Epoch 24/50\n",
            "\u001b[1m2480/2480\u001b[0m \u001b[32m━━━━━━━━━━━━━━━━━━━━\u001b[0m\u001b[37m\u001b[0m \u001b[1m11s\u001b[0m 2ms/step - loss: 0.3836 - val_loss: 0.3841\n",
            "Epoch 25/50\n",
            "\u001b[1m2480/2480\u001b[0m \u001b[32m━━━━━━━━━━━━━━━━━━━━\u001b[0m\u001b[37m\u001b[0m \u001b[1m6s\u001b[0m 2ms/step - loss: 0.3838 - val_loss: 0.3838\n",
            "Epoch 26/50\n",
            "\u001b[1m2480/2480\u001b[0m \u001b[32m━━━━━━━━━━━━━━━━━━━━\u001b[0m\u001b[37m\u001b[0m \u001b[1m5s\u001b[0m 2ms/step - loss: 0.3847 - val_loss: 0.3838\n",
            "Epoch 27/50\n",
            "\u001b[1m2480/2480\u001b[0m \u001b[32m━━━━━━━━━━━━━━━━━━━━\u001b[0m\u001b[37m\u001b[0m \u001b[1m5s\u001b[0m 2ms/step - loss: 0.3841 - val_loss: 0.3850\n",
            "Epoch 28/50\n",
            "\u001b[1m2480/2480\u001b[0m \u001b[32m━━━━━━━━━━━━━━━━━━━━\u001b[0m\u001b[37m\u001b[0m \u001b[1m4s\u001b[0m 2ms/step - loss: 0.3848 - val_loss: 0.3844\n",
            "Epoch 29/50\n",
            "\u001b[1m2480/2480\u001b[0m \u001b[32m━━━━━━━━━━━━━━━━━━━━\u001b[0m\u001b[37m\u001b[0m \u001b[1m5s\u001b[0m 2ms/step - loss: 0.3843 - val_loss: 0.3842\n",
            "Epoch 30/50\n",
            "\u001b[1m2480/2480\u001b[0m \u001b[32m━━━━━━━━━━━━━━━━━━━━\u001b[0m\u001b[37m\u001b[0m \u001b[1m5s\u001b[0m 2ms/step - loss: 0.3843 - val_loss: 0.3834\n",
            "Epoch 31/50\n",
            "\u001b[1m2480/2480\u001b[0m \u001b[32m━━━━━━━━━━━━━━━━━━━━\u001b[0m\u001b[37m\u001b[0m \u001b[1m9s\u001b[0m 2ms/step - loss: 0.3831 - val_loss: 0.3850\n",
            "Epoch 32/50\n",
            "\u001b[1m2480/2480\u001b[0m \u001b[32m━━━━━━━━━━━━━━━━━━━━\u001b[0m\u001b[37m\u001b[0m \u001b[1m4s\u001b[0m 2ms/step - loss: 0.3841 - val_loss: 0.3833\n",
            "Epoch 33/50\n",
            "\u001b[1m2480/2480\u001b[0m \u001b[32m━━━━━━━━━━━━━━━━━━━━\u001b[0m\u001b[37m\u001b[0m \u001b[1m5s\u001b[0m 2ms/step - loss: 0.3837 - val_loss: 0.3840\n",
            "Epoch 34/50\n",
            "\u001b[1m2480/2480\u001b[0m \u001b[32m━━━━━━━━━━━━━━━━━━━━\u001b[0m\u001b[37m\u001b[0m \u001b[1m6s\u001b[0m 2ms/step - loss: 0.3838 - val_loss: 0.3844\n",
            "Epoch 35/50\n",
            "\u001b[1m2480/2480\u001b[0m \u001b[32m━━━━━━━━━━━━━━━━━━━━\u001b[0m\u001b[37m\u001b[0m \u001b[1m4s\u001b[0m 2ms/step - loss: 0.3833 - val_loss: 0.3838\n",
            "Epoch 36/50\n",
            "\u001b[1m2480/2480\u001b[0m \u001b[32m━━━━━━━━━━━━━━━━━━━━\u001b[0m\u001b[37m\u001b[0m \u001b[1m5s\u001b[0m 2ms/step - loss: 0.3831 - val_loss: 0.3842\n",
            "Epoch 37/50\n",
            "\u001b[1m2480/2480\u001b[0m \u001b[32m━━━━━━━━━━━━━━━━━━━━\u001b[0m\u001b[37m\u001b[0m \u001b[1m4s\u001b[0m 2ms/step - loss: 0.3839 - val_loss: 0.3837\n",
            "Epoch 38/50\n",
            "\u001b[1m2480/2480\u001b[0m \u001b[32m━━━━━━━━━━━━━━━━━━━━\u001b[0m\u001b[37m\u001b[0m \u001b[1m5s\u001b[0m 2ms/step - loss: 0.3839 - val_loss: 0.3838\n",
            "Epoch 39/50\n",
            "\u001b[1m2480/2480\u001b[0m \u001b[32m━━━━━━━━━━━━━━━━━━━━\u001b[0m\u001b[37m\u001b[0m \u001b[1m7s\u001b[0m 3ms/step - loss: 0.3837 - val_loss: 0.3835\n",
            "Epoch 40/50\n",
            "\u001b[1m2480/2480\u001b[0m \u001b[32m━━━━━━━━━━━━━━━━━━━━\u001b[0m\u001b[37m\u001b[0m \u001b[1m7s\u001b[0m 3ms/step - loss: 0.3824 - val_loss: 0.3843\n",
            "Epoch 41/50\n",
            "\u001b[1m2480/2480\u001b[0m \u001b[32m━━━━━━━━━━━━━━━━━━━━\u001b[0m\u001b[37m\u001b[0m \u001b[1m7s\u001b[0m 3ms/step - loss: 0.3834 - val_loss: 0.3840\n",
            "Epoch 42/50\n",
            "\u001b[1m2480/2480\u001b[0m \u001b[32m━━━━━━━━━━━━━━━━━━━━\u001b[0m\u001b[37m\u001b[0m \u001b[1m5s\u001b[0m 2ms/step - loss: 0.3834 - val_loss: 0.3832\n",
            "Epoch 43/50\n",
            "\u001b[1m2480/2480\u001b[0m \u001b[32m━━━━━━━━━━━━━━━━━━━━\u001b[0m\u001b[37m\u001b[0m \u001b[1m6s\u001b[0m 2ms/step - loss: 0.3846 - val_loss: 0.3838\n",
            "Epoch 44/50\n",
            "\u001b[1m2480/2480\u001b[0m \u001b[32m━━━━━━━━━━━━━━━━━━━━\u001b[0m\u001b[37m\u001b[0m \u001b[1m9s\u001b[0m 2ms/step - loss: 0.3824 - val_loss: 0.3837\n",
            "Epoch 45/50\n",
            "\u001b[1m2480/2480\u001b[0m \u001b[32m━━━━━━━━━━━━━━━━━━━━\u001b[0m\u001b[37m\u001b[0m \u001b[1m6s\u001b[0m 2ms/step - loss: 0.3838 - val_loss: 0.3839\n",
            "Epoch 46/50\n",
            "\u001b[1m2480/2480\u001b[0m \u001b[32m━━━━━━━━━━━━━━━━━━━━\u001b[0m\u001b[37m\u001b[0m \u001b[1m7s\u001b[0m 3ms/step - loss: 0.3837 - val_loss: 0.3832\n",
            "Epoch 47/50\n",
            "\u001b[1m2480/2480\u001b[0m \u001b[32m━━━━━━━━━━━━━━━━━━━━\u001b[0m\u001b[37m\u001b[0m \u001b[1m12s\u001b[0m 3ms/step - loss: 0.3834 - val_loss: 0.3833\n",
            "Epoch 48/50\n",
            "\u001b[1m2480/2480\u001b[0m \u001b[32m━━━━━━━━━━━━━━━━━━━━\u001b[0m\u001b[37m\u001b[0m \u001b[1m8s\u001b[0m 3ms/step - loss: 0.3835 - val_loss: 0.3834\n",
            "Epoch 49/50\n",
            "\u001b[1m2480/2480\u001b[0m \u001b[32m━━━━━━━━━━━━━━━━━━━━\u001b[0m\u001b[37m\u001b[0m \u001b[1m9s\u001b[0m 3ms/step - loss: 0.3834 - val_loss: 0.3836\n",
            "Epoch 50/50\n",
            "\u001b[1m2480/2480\u001b[0m \u001b[32m━━━━━━━━━━━━━━━━━━━━\u001b[0m\u001b[37m\u001b[0m \u001b[1m6s\u001b[0m 2ms/step - loss: 0.3833 - val_loss: 0.3842\n"
          ]
        }
      ],
      "source": [
        "optimizer = tf.keras.optimizers.Adam(learning_rate=0.001)\n",
        "\n",
        "\n",
        "early_stopping = EarlyStopping(monitor = 'val_loss', patience = 10, restore_best_weights = True)\n",
        "\n",
        "ann = tf.keras.models.Sequential()\n",
        "ann.add(tf.keras.layers.Dense(units=150, activation='relu', input_shape=(X_train.shape[1],)))\n",
        "ann.add(tf.keras.layers.Dense(units=100, activation='relu'))\n",
        "ann.add(tf.keras.layers.Dense(units=50, activation='relu'))\n",
        "ann.add(tf.keras.layers.Dense(units=1, activation='sigmoid'))\n",
        "ann.compile(optimizer = optimizer, loss = 'binary_crossentropy')\n",
        "\n",
        "ann_model = ann.fit(X_train, y_train, batch_size = 64, epochs = 50, validation_split = 0.2, callbacks = [early_stopping])"
      ]
    },
    {
      "cell_type": "code",
      "execution_count": 117,
      "metadata": {
        "colab": {
          "base_uri": "https://localhost:8080/"
        },
        "id": "bh18zxMEFFKJ",
        "outputId": "3978912a-4759-46e8-910c-c0b878b8c396"
      },
      "outputs": [
        {
          "name": "stdout",
          "output_type": "stream",
          "text": [
            "\u001b[1m1550/1550\u001b[0m \u001b[32m━━━━━━━━━━━━━━━━━━━━\u001b[0m\u001b[37m\u001b[0m \u001b[1m2s\u001b[0m 1ms/step\n",
            "Accuray for ANN Model: 0.9626\n"
          ]
        }
      ],
      "source": [
        "y_pred_ann = ann.predict(X_test)\n",
        "ann_acc = r2_score(y_test,y_pred_ann)\n",
        "print(f\"Accuray for ANN Model: {ann_acc:.4}\")"
      ]
    },
    {
      "cell_type": "code",
      "execution_count": 118,
      "metadata": {},
      "outputs": [
        {
          "data": {
            "image/png": "[encoded data removed]",
            "text/plain": [
              "<Figure size 640x480 with 1 Axes>"
            ]
          },
          "metadata": {},
          "output_type": "display_data"
        }
      ],
      "source": [
        "history_dict = ann_model.history\n",
        "\n",
        "plt.plot(history_dict['loss'], label='Training Loss')\n",
        "if 'val_loss' in history_dict:\n",
        "    plt.plot(history_dict['val_loss'], label='Validation Loss')\n",
        "plt.title('Loss Curves')\n",
        "plt.xlabel('Epochs')\n",
        "plt.ylabel('Loss')\n",
        "plt.legend()\n",
        "plt.show()"
      ]
    },
    {
      "cell_type": "markdown",
      "metadata": {},
      "source": [
        "## RNN Model"
      ]
    },
    {
      "cell_type": "code",
      "execution_count": 157,
      "metadata": {
        "id": "Jn6g7zHrDAR2"
      },
      "outputs": [
        {
          "name": "stdout",
          "output_type": "stream",
          "text": [
            "Epoch 1/20\n",
            "\u001b[1m2480/2480\u001b[0m \u001b[32m━━━━━━━━━━━━━━━━━━━━\u001b[0m\u001b[37m\u001b[0m \u001b[1m430s\u001b[0m 165ms/step - loss: 0.4688 - val_loss: 0.4632\n",
            "Epoch 2/20\n",
            "\u001b[1m2480/2480\u001b[0m \u001b[32m━━━━━━━━━━━━━━━━━━━━\u001b[0m\u001b[37m\u001b[0m \u001b[1m423s\u001b[0m 171ms/step - loss: 0.4651 - val_loss: 0.4633\n",
            "Epoch 3/20\n",
            "\u001b[1m2480/2480\u001b[0m \u001b[32m━━━━━━━━━━━━━━━━━━━━\u001b[0m\u001b[37m\u001b[0m \u001b[1m351s\u001b[0m 142ms/step - loss: 0.4610 - val_loss: 0.4201\n",
            "Epoch 4/20\n",
            "\u001b[1m2480/2480\u001b[0m \u001b[32m━━━━━━━━━━━━━━━━━━━━\u001b[0m\u001b[37m\u001b[0m \u001b[1m337s\u001b[0m 136ms/step - loss: 0.4102 - val_loss: 0.3943\n",
            "Epoch 5/20\n",
            "\u001b[1m2480/2480\u001b[0m \u001b[32m━━━━━━━━━━━━━━━━━━━━\u001b[0m\u001b[37m\u001b[0m \u001b[1m382s\u001b[0m 136ms/step - loss: 0.3943 - val_loss: 0.3868\n",
            "Epoch 6/20\n",
            "\u001b[1m2480/2480\u001b[0m \u001b[32m━━━━━━━━━━━━━━━━━━━━\u001b[0m\u001b[37m\u001b[0m \u001b[1m339s\u001b[0m 137ms/step - loss: 0.3902 - val_loss: 0.3911\n",
            "Epoch 7/20\n",
            "\u001b[1m2480/2480\u001b[0m \u001b[32m━━━━━━━━━━━━━━━━━━━━\u001b[0m\u001b[37m\u001b[0m \u001b[1m343s\u001b[0m 138ms/step - loss: 0.3878 - val_loss: 0.3848\n",
            "Epoch 8/20\n",
            "\u001b[1m2480/2480\u001b[0m \u001b[32m━━━━━━━━━━━━━━━━━━━━\u001b[0m\u001b[37m\u001b[0m \u001b[1m367s\u001b[0m 148ms/step - loss: 0.3882 - val_loss: 0.3854\n",
            "Epoch 9/20\n",
            "\u001b[1m2480/2480\u001b[0m \u001b[32m━━━━━━━━━━━━━━━━━━━━\u001b[0m\u001b[37m\u001b[0m \u001b[1m378s\u001b[0m 153ms/step - loss: 0.3877 - val_loss: 0.3846\n",
            "Epoch 10/20\n",
            "\u001b[1m2480/2480\u001b[0m \u001b[32m━━━━━━━━━━━━━━━━━━━━\u001b[0m\u001b[37m\u001b[0m \u001b[1m383s\u001b[0m 153ms/step - loss: 0.3862 - val_loss: 0.3857\n",
            "Epoch 11/20\n",
            "\u001b[1m2480/2480\u001b[0m \u001b[32m━━━━━━━━━━━━━━━━━━━━\u001b[0m\u001b[37m\u001b[0m \u001b[1m351s\u001b[0m 141ms/step - loss: 0.3843 - val_loss: 0.3857\n",
            "Epoch 12/20\n",
            "\u001b[1m2480/2480\u001b[0m \u001b[32m━━━━━━━━━━━━━━━━━━━━\u001b[0m\u001b[37m\u001b[0m \u001b[1m356s\u001b[0m 143ms/step - loss: 0.3863 - val_loss: 0.3876\n",
            "Epoch 13/20\n",
            "\u001b[1m2480/2480\u001b[0m \u001b[32m━━━━━━━━━━━━━━━━━━━━\u001b[0m\u001b[37m\u001b[0m \u001b[1m387s\u001b[0m 156ms/step - loss: 0.3852 - val_loss: 0.3834\n",
            "Epoch 14/20\n",
            "\u001b[1m2480/2480\u001b[0m \u001b[32m━━━━━━━━━━━━━━━━━━━━\u001b[0m\u001b[37m\u001b[0m \u001b[1m422s\u001b[0m 148ms/step - loss: 0.3850 - val_loss: 0.3841\n",
            "Epoch 15/20\n",
            "\u001b[1m2480/2480\u001b[0m \u001b[32m━━━━━━━━━━━━━━━━━━━━\u001b[0m\u001b[37m\u001b[0m \u001b[1m361s\u001b[0m 146ms/step - loss: 0.3852 - val_loss: 0.3832\n",
            "Epoch 16/20\n",
            "\u001b[1m2480/2480\u001b[0m \u001b[32m━━━━━━━━━━━━━━━━━━━━\u001b[0m\u001b[37m\u001b[0m \u001b[1m396s\u001b[0m 160ms/step - loss: 0.3857 - val_loss: 0.3831\n",
            "Epoch 17/20\n",
            "\u001b[1m2480/2480\u001b[0m \u001b[32m━━━━━━━━━━━━━━━━━━━━\u001b[0m\u001b[37m\u001b[0m \u001b[1m478s\u001b[0m 193ms/step - loss: 0.3839 - val_loss: 0.3834\n",
            "Epoch 18/20\n",
            "\u001b[1m2480/2480\u001b[0m \u001b[32m━━━━━━━━━━━━━━━━━━━━\u001b[0m\u001b[37m\u001b[0m \u001b[1m476s\u001b[0m 182ms/step - loss: 0.3834 - val_loss: 0.3839\n",
            "Epoch 19/20\n",
            "\u001b[1m2480/2480\u001b[0m \u001b[32m━━━━━━━━━━━━━━━━━━━━\u001b[0m\u001b[37m\u001b[0m \u001b[1m453s\u001b[0m 183ms/step - loss: 0.3857 - val_loss: 0.3842\n",
            "Epoch 20/20\n",
            "\u001b[1m2480/2480\u001b[0m \u001b[32m━━━━━━━━━━━━━━━━━━━━\u001b[0m\u001b[37m\u001b[0m \u001b[1m468s\u001b[0m 189ms/step - loss: 0.3851 - val_loss: 0.3824\n"
          ]
        }
      ],
      "source": [
        "optimizer = tf.keras.optimizers.Adam(learning_rate=0.001)\n",
        "early_stopping = EarlyStopping(monitor = 'val_loss', patience = 10, restore_best_weights = True)\n",
        "\n",
        "rnn = Sequential()\n",
        "rnn.add(LSTM(units=200, return_sequences=True, input_shape=(X_train.shape[1],1)))\n",
        "rnn.add(Dropout(0.2))\n",
        "rnn.add(LSTM(units=150, return_sequences=True))\n",
        "rnn.add(Dropout(0.2))\n",
        "rnn.add(LSTM(units=100, return_sequences=True))\n",
        "rnn.add(Dropout(0.2))\n",
        "rnn.add(LSTM(units=50))\n",
        "rnn.add(Dropout(0.2))\n",
        "rnn.add(Dense(units=1, activation='sigmoid'))\n",
        "rnn.compile(optimizer = optimizer, loss = 'binary_crossentropy')\n",
        "rnn_model = rnn.fit(X_train, y_train, epochs = 20, batch_size = 64, validation_split = 0.2, callbacks = [early_stopping])"
      ]
    },
    {
      "cell_type": "code",
      "execution_count": 158,
      "metadata": {
        "id": "wGnc7G6iHX-Z"
      },
      "outputs": [
        {
          "name": "stdout",
          "output_type": "stream",
          "text": [
            "\u001b[1m1550/1550\u001b[0m \u001b[32m━━━━━━━━━━━━━━━━━━━━\u001b[0m\u001b[37m\u001b[0m \u001b[1m56s\u001b[0m 35ms/step\n",
            "R² Score for RNN Model: 0.9706\n"
          ]
        }
      ],
      "source": [
        "y_pred_rnn = rnn.predict(X_test)\n",
        "rnn_r2 = r2_score(y_test, y_pred_rnn)\n",
        "print(f\"R² Score for RNN Model: {rnn_r2:.4f}\")"
      ]
    },
    {
      "cell_type": "code",
      "execution_count": 150,
      "metadata": {},
      "outputs": [
        {
          "data": {
            "text/plain": [
              "Index(['Color Score', 'Density', 'Water Content', 'pH',\n",
              "       'Electrical Conductivity', 'Fructose Level', 'Glucose Level',\n",
              "       'Viscosity', 'Pollen Analysis_Acacia', 'Pollen Analysis_Alfalfa',\n",
              "       'Pollen Analysis_Avocado', 'Pollen Analysis_Blueberry',\n",
              "       'Pollen Analysis_Borage', 'Pollen Analysis_Buckwheat',\n",
              "       'Pollen Analysis_Chestnut', 'Pollen Analysis_Clover',\n",
              "       'Pollen Analysis_Eucalyptus', 'Pollen Analysis_Heather',\n",
              "       'Pollen Analysis_Lavender', 'Pollen Analysis_Manuka',\n",
              "       'Pollen Analysis_Orange Blossom', 'Pollen Analysis_Rosemary',\n",
              "       'Pollen Analysis_Sage', 'Pollen Analysis_Sunflower',\n",
              "       'Pollen Analysis_Thyme', 'Pollen Analysis_Tupelo',\n",
              "       'Pollen Analysis_Wildflower'],\n",
              "      dtype='object')"
            ]
          },
          "execution_count": 150,
          "metadata": {},
          "output_type": "execute_result"
        }
      ],
      "source": [
        "final_df.columns"
      ]
    },
    {
      "cell_type": "markdown",
      "metadata": {},
      "source": [
        "### Save Models for Prediction"
      ]
    },
    {
      "cell_type": "code",
      "execution_count": 159,
      "metadata": {},
      "outputs": [
        {
          "name": "stderr",
          "output_type": "stream",
          "text": [
            "WARNING:absl:You are saving your model as an HDF5 file via `model.save()` or `keras.saving.save_model(model)`. This file format is considered legacy. We recommend using instead the native Keras format, e.g. `model.save('my_model.keras')` or `keras.saving.save_model(model, 'my_model.keras')`. \n"
          ]
        }
      ],
      "source": [
        "# pickle.dump(scaler, open('honey_standardscaler.pkl', 'wb'))\n",
        "# pickle.dump(dt_reg, open('honey_decisiontree.pkl', 'wb'))\n",
        "# pickle.dump(rfr, open('honey_randomforest.pkl', 'wb'))\n",
        "# pickle.dump(gbr, open('honey_gradeintbossing.pkl', 'wb'))\n",
        "# pickle.dump(xgb_reg, open('honey_XGBoost', 'wb'))\n",
        "# pickle.dump(grid_xgb, open('honey_XGBoostGrid.pkl', 'wb'))\n",
        "# ann.save('honey_ann.h5')\n",
        "# rnn.save('honey_rnn.h5')"
      ]
    },
    {
      "cell_type": "code",
      "execution_count": 160,
      "metadata": {
        "id": "llnf1HTF9pik"
      },
      "outputs": [],
      "source": [
        "lr_acc = r2_score(y_test, y_pred_lr)\n",
        "dtr_acc = r2_score(y_test, y_pred_dtr)\n",
        "rfr_acc = r2_score(y_test, y_pred_rfr)\n",
        "xgb_acc = r2_score(y_test, y_pred_xgb)\n",
        "ada_acc = r2_score(y_test, y_pred_ada)\n",
        "gbr_acc = r2_score(y_test, y_pred_gbr)\n",
        "lr_ls_acc = r2_score(y_test, y_pred_ls)\n",
        "grid_lr_ls_acc = accuracy_ls\n",
        "grid_xgb_acc = best_score_grid_xgb\n",
        "ann_model = ann_acc\n",
        "rnn_model = rnn_r2"
      ]
    },
    {
      "cell_type": "code",
      "execution_count": 161,
      "metadata": {
        "colab": {
          "base_uri": "https://localhost:8080/",
          "height": 626
        },
        "id": "GtBF03n89pfw",
        "outputId": "fcf5a8ea-a4dd-474a-f8c8-4df02ed65d1b"
      },
      "outputs": [
        {
          "data": {
            "image/png": "[encoded data removed]",
            "text/plain": [
              "<Figure size 2500x700 with 1 Axes>"
            ]
          },
          "metadata": {},
          "output_type": "display_data"
        }
      ],
      "source": [
        "# Visualize Model Score in Bar Graph\n",
        "colors = ['#ff0045', '#907c78', '#FF8C00', '#2a0600', '#d41f00', '#00daff', '#550c00', '#ff2500', '#9aff00', '#030000', '#7a00ff']\n",
        "\n",
        "# Plot the performance of different regression models (example)\n",
        "performance = {\n",
        "    'Model': ['Linear Regression', 'Decision Tree', 'Random Forest', 'XGBoost', 'ADABoost', 'Gradient Boosting',\n",
        "              'Linear Lasso', 'Linear GridSearch Lasso', 'XGBoost GridSearch', 'ANN Model', 'RNN Model'],\n",
        "    'R2 Score': [lr_acc, dtr_acc, rfr_acc, xgb_acc, ada_acc, gbr_acc, lr_ls_acc, grid_lr_ls_acc, grid_xgb_acc, ann_model, rnn_model]\n",
        "}\n",
        "plt.figure(figsize=(25, 7))\n",
        "performance_df = pd.DataFrame(performance)\n",
        "sns.barplot(x = 'Model', y = 'R2 Score', data = performance_df, palette = colors)\n",
        "plt.xticks(rotation=25)\n",
        "plt.title('Models Performance Comparison', fontweight = 'bold', fontsize = 24, color = 'purple')\n",
        "\n",
        "# Add labels on bars\n",
        "for index, row in performance_df.iterrows():\n",
        "    plt.text(index, row['R2 Score'], round(row['R2 Score'], 4), color = 'blue', ha = \"center\", fontweight = 'bold', fontsize = 14)\n",
        "plt.xlabel('ML Models', color = 'red', fontweight='bold', fontsize = 17)\n",
        "plt.ylabel('Model Accuracy', color = 'red', fontweight = 'bold', fontsize = 17)\n",
        "\n",
        "plt.xticks(fontweight='bold', color='blue')\n",
        "plt.yticks(fontweight='bold', color='blue')\n",
        "plt.show()"
      ]
    },
    {
      "cell_type": "code",
      "execution_count": 162,
      "metadata": {
        "colab": {
          "base_uri": "https://localhost:8080/",
          "height": 1000
        },
        "id": "WgYrlvZS9pdB",
        "outputId": "04583d44-3b4f-4bd2-e7d4-03722d79733d"
      },
      "outputs": [
        {
          "data": {
            "application/vnd.plotly.v1+json": {
              "config": {
                "plotlyServerURL": "https://plot.ly"
              },
              "data": [
                {
                  "domain": {
                    "x": [
                      0,
                      0.2888888888888889
                    ],
                    "y": [
                      0.7777777777777778,
                      1
                    ]
                  },
                  "gauge": {
                    "axis": {
                      "range": [
                        0,
                        100
                      ]
                    },
                    "bar": {
                      "color": "purple"
                    },
                    "steps": [
                      {
                        "color": "green",
                        "range": [
                          0,
                          50
                        ]
                      },
                      {
                        "color": "orange",
                        "range": [
                          50,
                          100
                        ]
                      }
                    ],
                    "threshold": {
                      "line": {
                        "color": "black",
                        "width": 4
                      },
                      "thickness": 0.75,
                      "value": 90
                    }
                  },
                  "mode": "gauge+number",
                  "title": {
                    "align": "center",
                    "font": {
                      "size": 12
                    },
                    "text": "XGBoost"
                  },
                  "type": "indicator",
                  "value": 97.8498452876679
                },
                {
                  "domain": {
                    "x": [
                      0.35555555555555557,
                      0.6444444444444445
                    ],
                    "y": [
                      0.7777777777777778,
                      1
                    ]
                  },
                  "gauge": {
                    "axis": {
                      "range": [
                        0,
                        100
                      ]
                    },
                    "bar": {
                      "color": "purple"
                    },
                    "steps": [
                      {
                        "color": "green",
                        "range": [
                          0,
                          50
                        ]
                      },
                      {
                        "color": "orange",
                        "range": [
                          50,
                          100
                        ]
                      }
                    ],
                    "threshold": {
                      "line": {
                        "color": "black",
                        "width": 4
                      },
                      "thickness": 0.75,
                      "value": 90
                    }
                  },
                  "mode": "gauge+number",
                  "title": {
                    "align": "center",
                    "font": {
                      "size": 12
                    },
                    "text": "Random Forest"
                  },
                  "type": "indicator",
                  "value": 98.13907543290571
                },
                {
                  "domain": {
                    "x": [
                      0.7111111111111111,
                      1
                    ],
                    "y": [
                      0.7777777777777778,
                      1
                    ]
                  },
                  "gauge": {
                    "axis": {
                      "range": [
                        0,
                        100
                      ]
                    },
                    "bar": {
                      "color": "purple"
                    },
                    "steps": [
                      {
                        "color": "green",
                        "range": [
                          0,
                          50
                        ]
                      },
                      {
                        "color": "orange",
                        "range": [
                          50,
                          100
                        ]
                      }
                    ],
                    "threshold": {
                      "line": {
                        "color": "black",
                        "width": 4
                      },
                      "thickness": 0.75,
                      "value": 90
                    }
                  },
                  "mode": "gauge+number",
                  "title": {
                    "align": "center",
                    "font": {
                      "size": 12
                    },
                    "text": "Gradiant Boosting"
                  },
                  "type": "indicator",
                  "value": 95.27928035286665
                },
                {
                  "domain": {
                    "x": [
                      0,
                      0.2888888888888889
                    ],
                    "y": [
                      0.3888888888888889,
                      0.6111111111111112
                    ]
                  },
                  "gauge": {
                    "axis": {
                      "range": [
                        0,
                        100
                      ]
                    },
                    "bar": {
                      "color": "purple"
                    },
                    "steps": [
                      {
                        "color": "green",
                        "range": [
                          0,
                          50
                        ]
                      },
                      {
                        "color": "orange",
                        "range": [
                          50,
                          100
                        ]
                      }
                    ],
                    "threshold": {
                      "line": {
                        "color": "black",
                        "width": 4
                      },
                      "thickness": 0.75,
                      "value": 90
                    }
                  },
                  "mode": "gauge+number",
                  "title": {
                    "align": "center",
                    "font": {
                      "size": 12
                    },
                    "text": "XGBoost GridSearch"
                  },
                  "type": "indicator",
                  "value": 97.8076334236708
                },
                {
                  "domain": {
                    "x": [
                      0.35555555555555557,
                      0.6444444444444445
                    ],
                    "y": [
                      0.3888888888888889,
                      0.6111111111111112
                    ]
                  },
                  "gauge": {
                    "axis": {
                      "range": [
                        0,
                        100
                      ]
                    },
                    "bar": {
                      "color": "purple"
                    },
                    "steps": [
                      {
                        "color": "green",
                        "range": [
                          0,
                          50
                        ]
                      },
                      {
                        "color": "orange",
                        "range": [
                          50,
                          100
                        ]
                      }
                    ],
                    "threshold": {
                      "line": {
                        "color": "black",
                        "width": 4
                      },
                      "thickness": 0.75,
                      "value": 90
                    }
                  },
                  "mode": "gauge+number",
                  "title": {
                    "align": "center",
                    "font": {
                      "size": 12
                    },
                    "text": "ANN"
                  },
                  "type": "indicator",
                  "value": 96.26082663183088
                },
                {
                  "domain": {
                    "x": [
                      0.7111111111111111,
                      1
                    ],
                    "y": [
                      0.3888888888888889,
                      0.6111111111111112
                    ]
                  },
                  "gauge": {
                    "axis": {
                      "range": [
                        0,
                        100
                      ]
                    },
                    "bar": {
                      "color": "purple"
                    },
                    "steps": [
                      {
                        "color": "green",
                        "range": [
                          0,
                          50
                        ]
                      },
                      {
                        "color": "orange",
                        "range": [
                          50,
                          100
                        ]
                      }
                    ],
                    "threshold": {
                      "line": {
                        "color": "black",
                        "width": 4
                      },
                      "thickness": 0.75,
                      "value": 90
                    }
                  },
                  "mode": "gauge+number",
                  "title": {
                    "align": "center",
                    "font": {
                      "size": 12
                    },
                    "text": "RNN"
                  },
                  "type": "indicator",
                  "value": 97.0575561490207
                }
              ],
              "layout": {
                "annotations": [
                  {
                    "font": {
                      "size": 16
                    },
                    "showarrow": false,
                    "text": "XGBoost",
                    "x": 0.14444444444444446,
                    "xanchor": "center",
                    "xref": "paper",
                    "y": 1,
                    "yanchor": "bottom",
                    "yref": "paper"
                  },
                  {
                    "font": {
                      "size": 16
                    },
                    "showarrow": false,
                    "text": "Random Forest",
                    "x": 0.5,
                    "xanchor": "center",
                    "xref": "paper",
                    "y": 1,
                    "yanchor": "bottom",
                    "yref": "paper"
                  },
                  {
                    "font": {
                      "size": 16
                    },
                    "showarrow": false,
                    "text": "Gradiant Boosting",
                    "x": 0.8555555555555556,
                    "xanchor": "center",
                    "xref": "paper",
                    "y": 1,
                    "yanchor": "bottom",
                    "yref": "paper"
                  },
                  {
                    "font": {
                      "size": 16
                    },
                    "showarrow": false,
                    "text": "XGBoost GridSearch",
                    "x": 0.14444444444444446,
                    "xanchor": "center",
                    "xref": "paper",
                    "y": 0.6111111111111112,
                    "yanchor": "bottom",
                    "yref": "paper"
                  },
                  {
                    "font": {
                      "size": 16
                    },
                    "showarrow": false,
                    "text": "ANN",
                    "x": 0.5,
                    "xanchor": "center",
                    "xref": "paper",
                    "y": 0.6111111111111112,
                    "yanchor": "bottom",
                    "yref": "paper"
                  },
                  {
                    "font": {
                      "size": 16
                    },
                    "showarrow": false,
                    "text": "RNN",
                    "x": 0.8555555555555556,
                    "xanchor": "center",
                    "xref": "paper",
                    "y": 0.6111111111111112,
                    "yanchor": "bottom",
                    "yref": "paper"
                  }
                ],
                "height": 1000,
                "margin": {
                  "t": 100
                },
                "template": {
                  "data": {
                    "bar": [
                      {
                        "error_x": {
                          "color": "#2a3f5f"
                        },
                        "error_y": {
                          "color": "#2a3f5f"
                        },
                        "marker": {
                          "line": {
                            "color": "#E5ECF6",
                            "width": 0.5
                          },
                          "pattern": {
                            "fillmode": "overlay",
                            "size": 10,
                            "solidity": 0.2
                          }
                        },
                        "type": "bar"
                      }
                    ],
                    "barpolar": [
                      {
                        "marker": {
                          "line": {
                            "color": "#E5ECF6",
                            "width": 0.5
                          },
                          "pattern": {
                            "fillmode": "overlay",
                            "size": 10,
                            "solidity": 0.2
                          }
                        },
                        "type": "barpolar"
                      }
                    ],
                    "carpet": [
                      {
                        "aaxis": {
                          "endlinecolor": "#2a3f5f",
                          "gridcolor": "white",
                          "linecolor": "white",
                          "minorgridcolor": "white",
                          "startlinecolor": "#2a3f5f"
                        },
                        "baxis": {
                          "endlinecolor": "#2a3f5f",
                          "gridcolor": "white",
                          "linecolor": "white",
                          "minorgridcolor": "white",
                          "startlinecolor": "#2a3f5f"
                        },
                        "type": "carpet"
                      }
                    ],
                    "choropleth": [
                      {
                        "colorbar": {
                          "outlinewidth": 0,
                          "ticks": ""
                        },
                        "type": "choropleth"
                      }
                    ],
                    "contour": [
                      {
                        "colorbar": {
                          "outlinewidth": 0,
                          "ticks": ""
                        },
                        "colorscale": [
                          [
                            0,
                            "#0d0887"
                          ],
                          [
                            0.1111111111111111,
                            "#46039f"
                          ],
                          [
                            0.2222222222222222,
                            "#7201a8"
                          ],
                          [
                            0.3333333333333333,
                            "#9c179e"
                          ],
                          [
                            0.4444444444444444,
                            "#bd3786"
                          ],
                          [
                            0.5555555555555556,
                            "#d8576b"
                          ],
                          [
                            0.6666666666666666,
                            "#ed7953"
                          ],
                          [
                            0.7777777777777778,
                            "#fb9f3a"
                          ],
                          [
                            0.8888888888888888,
                            "#fdca26"
                          ],
                          [
                            1,
                            "#f0f921"
                          ]
                        ],
                        "type": "contour"
                      }
                    ],
                    "contourcarpet": [
                      {
                        "colorbar": {
                          "outlinewidth": 0,
                          "ticks": ""
                        },
                        "type": "contourcarpet"
                      }
                    ],
                    "heatmap": [
                      {
                        "colorbar": {
                          "outlinewidth": 0,
                          "ticks": ""
                        },
                        "colorscale": [
                          [
                            0,
                            "#0d0887"
                          ],
                          [
                            0.1111111111111111,
                            "#46039f"
                          ],
                          [
                            0.2222222222222222,
                            "#7201a8"
                          ],
                          [
                            0.3333333333333333,
                            "#9c179e"
                          ],
                          [
                            0.4444444444444444,
                            "#bd3786"
                          ],
                          [
                            0.5555555555555556,
                            "#d8576b"
                          ],
                          [
                            0.6666666666666666,
                            "#ed7953"
                          ],
                          [
                            0.7777777777777778,
                            "#fb9f3a"
                          ],
                          [
                            0.8888888888888888,
                            "#fdca26"
                          ],
                          [
                            1,
                            "#f0f921"
                          ]
                        ],
                        "type": "heatmap"
                      }
                    ],
                    "heatmapgl": [
                      {
                        "colorbar": {
                          "outlinewidth": 0,
                          "ticks": ""
                        },
                        "colorscale": [
                          [
                            0,
                            "#0d0887"
                          ],
                          [
                            0.1111111111111111,
                            "#46039f"
                          ],
                          [
                            0.2222222222222222,
                            "#7201a8"
                          ],
                          [
                            0.3333333333333333,
                            "#9c179e"
                          ],
                          [
                            0.4444444444444444,
                            "#bd3786"
                          ],
                          [
                            0.5555555555555556,
                            "#d8576b"
                          ],
                          [
                            0.6666666666666666,
                            "#ed7953"
                          ],
                          [
                            0.7777777777777778,
                            "#fb9f3a"
                          ],
                          [
                            0.8888888888888888,
                            "#fdca26"
                          ],
                          [
                            1,
                            "#f0f921"
                          ]
                        ],
                        "type": "heatmapgl"
                      }
                    ],
                    "histogram": [
                      {
                        "marker": {
                          "pattern": {
                            "fillmode": "overlay",
                            "size": 10,
                            "solidity": 0.2
                          }
                        },
                        "type": "histogram"
                      }
                    ],
                    "histogram2d": [
                      {
                        "colorbar": {
                          "outlinewidth": 0,
                          "ticks": ""
                        },
                        "colorscale": [
                          [
                            0,
                            "#0d0887"
                          ],
                          [
                            0.1111111111111111,
                            "#46039f"
                          ],
                          [
                            0.2222222222222222,
                            "#7201a8"
                          ],
                          [
                            0.3333333333333333,
                            "#9c179e"
                          ],
                          [
                            0.4444444444444444,
                            "#bd3786"
                          ],
                          [
                            0.5555555555555556,
                            "#d8576b"
                          ],
                          [
                            0.6666666666666666,
                            "#ed7953"
                          ],
                          [
                            0.7777777777777778,
                            "#fb9f3a"
                          ],
                          [
                            0.8888888888888888,
                            "#fdca26"
                          ],
                          [
                            1,
                            "#f0f921"
                          ]
                        ],
                        "type": "histogram2d"
                      }
                    ],
                    "histogram2dcontour": [
                      {
                        "colorbar": {
                          "outlinewidth": 0,
                          "ticks": ""
                        },
                        "colorscale": [
                          [
                            0,
                            "#0d0887"
                          ],
                          [
                            0.1111111111111111,
                            "#46039f"
                          ],
                          [
                            0.2222222222222222,
                            "#7201a8"
                          ],
                          [
                            0.3333333333333333,
                            "#9c179e"
                          ],
                          [
                            0.4444444444444444,
                            "#bd3786"
                          ],
                          [
                            0.5555555555555556,
                            "#d8576b"
                          ],
                          [
                            0.6666666666666666,
                            "#ed7953"
                          ],
                          [
                            0.7777777777777778,
                            "#fb9f3a"
                          ],
                          [
                            0.8888888888888888,
                            "#fdca26"
                          ],
                          [
                            1,
                            "#f0f921"
                          ]
                        ],
                        "type": "histogram2dcontour"
                      }
                    ],
                    "mesh3d": [
                      {
                        "colorbar": {
                          "outlinewidth": 0,
                          "ticks": ""
                        },
                        "type": "mesh3d"
                      }
                    ],
                    "parcoords": [
                      {
                        "line": {
                          "colorbar": {
                            "outlinewidth": 0,
                            "ticks": ""
                          }
                        },
                        "type": "parcoords"
                      }
                    ],
                    "pie": [
                      {
                        "automargin": true,
                        "type": "pie"
                      }
                    ],
                    "scatter": [
                      {
                        "fillpattern": {
                          "fillmode": "overlay",
                          "size": 10,
                          "solidity": 0.2
                        },
                        "type": "scatter"
                      }
                    ],
                    "scatter3d": [
                      {
                        "line": {
                          "colorbar": {
                            "outlinewidth": 0,
                            "ticks": ""
                          }
                        },
                        "marker": {
                          "colorbar": {
                            "outlinewidth": 0,
                            "ticks": ""
                          }
                        },
                        "type": "scatter3d"
                      }
                    ],
                    "scattercarpet": [
                      {
                        "marker": {
                          "colorbar": {
                            "outlinewidth": 0,
                            "ticks": ""
                          }
                        },
                        "type": "scattercarpet"
                      }
                    ],
                    "scattergeo": [
                      {
                        "marker": {
                          "colorbar": {
                            "outlinewidth": 0,
                            "ticks": ""
                          }
                        },
                        "type": "scattergeo"
                      }
                    ],
                    "scattergl": [
                      {
                        "marker": {
                          "colorbar": {
                            "outlinewidth": 0,
                            "ticks": ""
                          }
                        },
                        "type": "scattergl"
                      }
                    ],
                    "scattermapbox": [
                      {
                        "marker": {
                          "colorbar": {
                            "outlinewidth": 0,
                            "ticks": ""
                          }
                        },
                        "type": "scattermapbox"
                      }
                    ],
                    "scatterpolar": [
                      {
                        "marker": {
                          "colorbar": {
                            "outlinewidth": 0,
                            "ticks": ""
                          }
                        },
                        "type": "scatterpolar"
                      }
                    ],
                    "scatterpolargl": [
                      {
                        "marker": {
                          "colorbar": {
                            "outlinewidth": 0,
                            "ticks": ""
                          }
                        },
                        "type": "scatterpolargl"
                      }
                    ],
                    "scatterternary": [
                      {
                        "marker": {
                          "colorbar": {
                            "outlinewidth": 0,
                            "ticks": ""
                          }
                        },
                        "type": "scatterternary"
                      }
                    ],
                    "surface": [
                      {
                        "colorbar": {
                          "outlinewidth": 0,
                          "ticks": ""
                        },
                        "colorscale": [
                          [
                            0,
                            "#0d0887"
                          ],
                          [
                            0.1111111111111111,
                            "#46039f"
                          ],
                          [
                            0.2222222222222222,
                            "#7201a8"
                          ],
                          [
                            0.3333333333333333,
                            "#9c179e"
                          ],
                          [
                            0.4444444444444444,
                            "#bd3786"
                          ],
                          [
                            0.5555555555555556,
                            "#d8576b"
                          ],
                          [
                            0.6666666666666666,
                            "#ed7953"
                          ],
                          [
                            0.7777777777777778,
                            "#fb9f3a"
                          ],
                          [
                            0.8888888888888888,
                            "#fdca26"
                          ],
                          [
                            1,
                            "#f0f921"
                          ]
                        ],
                        "type": "surface"
                      }
                    ],
                    "table": [
                      {
                        "cells": {
                          "fill": {
                            "color": "#EBF0F8"
                          },
                          "line": {
                            "color": "white"
                          }
                        },
                        "header": {
                          "fill": {
                            "color": "#C8D4E3"
                          },
                          "line": {
                            "color": "white"
                          }
                        },
                        "type": "table"
                      }
                    ]
                  },
                  "layout": {
                    "annotationdefaults": {
                      "arrowcolor": "#2a3f5f",
                      "arrowhead": 0,
                      "arrowwidth": 1
                    },
                    "autotypenumbers": "strict",
                    "coloraxis": {
                      "colorbar": {
                        "outlinewidth": 0,
                        "ticks": ""
                      }
                    },
                    "colorscale": {
                      "diverging": [
                        [
                          0,
                          "#8e0152"
                        ],
                        [
                          0.1,
                          "#c51b7d"
                        ],
                        [
                          0.2,
                          "#de77ae"
                        ],
                        [
                          0.3,
                          "#f1b6da"
                        ],
                        [
                          0.4,
                          "#fde0ef"
                        ],
                        [
                          0.5,
                          "#f7f7f7"
                        ],
                        [
                          0.6,
                          "#e6f5d0"
                        ],
                        [
                          0.7,
                          "#b8e186"
                        ],
                        [
                          0.8,
                          "#7fbc41"
                        ],
                        [
                          0.9,
                          "#4d9221"
                        ],
                        [
                          1,
                          "#276419"
                        ]
                      ],
                      "sequential": [
                        [
                          0,
                          "#0d0887"
                        ],
                        [
                          0.1111111111111111,
                          "#46039f"
                        ],
                        [
                          0.2222222222222222,
                          "#7201a8"
                        ],
                        [
                          0.3333333333333333,
                          "#9c179e"
                        ],
                        [
                          0.4444444444444444,
                          "#bd3786"
                        ],
                        [
                          0.5555555555555556,
                          "#d8576b"
                        ],
                        [
                          0.6666666666666666,
                          "#ed7953"
                        ],
                        [
                          0.7777777777777778,
                          "#fb9f3a"
                        ],
                        [
                          0.8888888888888888,
                          "#fdca26"
                        ],
                        [
                          1,
                          "#f0f921"
                        ]
                      ],
                      "sequentialminus": [
                        [
                          0,
                          "#0d0887"
                        ],
                        [
                          0.1111111111111111,
                          "#46039f"
                        ],
                        [
                          0.2222222222222222,
                          "#7201a8"
                        ],
                        [
                          0.3333333333333333,
                          "#9c179e"
                        ],
                        [
                          0.4444444444444444,
                          "#bd3786"
                        ],
                        [
                          0.5555555555555556,
                          "#d8576b"
                        ],
                        [
                          0.6666666666666666,
                          "#ed7953"
                        ],
                        [
                          0.7777777777777778,
                          "#fb9f3a"
                        ],
                        [
                          0.8888888888888888,
                          "#fdca26"
                        ],
                        [
                          1,
                          "#f0f921"
                        ]
                      ]
                    },
                    "colorway": [
                      "#636efa",
                      "#EF553B",
                      "#00cc96",
                      "#ab63fa",
                      "#FFA15A",
                      "#19d3f3",
                      "#FF6692",
                      "#B6E880",
                      "#FF97FF",
                      "#FECB52"
                    ],
                    "font": {
                      "color": "#2a3f5f"
                    },
                    "geo": {
                      "bgcolor": "white",
                      "lakecolor": "white",
                      "landcolor": "#E5ECF6",
                      "showlakes": true,
                      "showland": true,
                      "subunitcolor": "white"
                    },
                    "hoverlabel": {
                      "align": "left"
                    },
                    "hovermode": "closest",
                    "mapbox": {
                      "style": "light"
                    },
                    "paper_bgcolor": "white",
                    "plot_bgcolor": "#E5ECF6",
                    "polar": {
                      "angularaxis": {
                        "gridcolor": "white",
                        "linecolor": "white",
                        "ticks": ""
                      },
                      "bgcolor": "#E5ECF6",
                      "radialaxis": {
                        "gridcolor": "white",
                        "linecolor": "white",
                        "ticks": ""
                      }
                    },
                    "scene": {
                      "xaxis": {
                        "backgroundcolor": "#E5ECF6",
                        "gridcolor": "white",
                        "gridwidth": 2,
                        "linecolor": "white",
                        "showbackground": true,
                        "ticks": "",
                        "zerolinecolor": "white"
                      },
                      "yaxis": {
                        "backgroundcolor": "#E5ECF6",
                        "gridcolor": "white",
                        "gridwidth": 2,
                        "linecolor": "white",
                        "showbackground": true,
                        "ticks": "",
                        "zerolinecolor": "white"
                      },
                      "zaxis": {
                        "backgroundcolor": "#E5ECF6",
                        "gridcolor": "white",
                        "gridwidth": 2,
                        "linecolor": "white",
                        "showbackground": true,
                        "ticks": "",
                        "zerolinecolor": "white"
                      }
                    },
                    "shapedefaults": {
                      "line": {
                        "color": "#2a3f5f"
                      }
                    },
                    "ternary": {
                      "aaxis": {
                        "gridcolor": "white",
                        "linecolor": "white",
                        "ticks": ""
                      },
                      "baxis": {
                        "gridcolor": "white",
                        "linecolor": "white",
                        "ticks": ""
                      },
                      "bgcolor": "#E5ECF6",
                      "caxis": {
                        "gridcolor": "white",
                        "linecolor": "white",
                        "ticks": ""
                      }
                    },
                    "title": {
                      "x": 0.05
                    },
                    "xaxis": {
                      "automargin": true,
                      "gridcolor": "white",
                      "linecolor": "white",
                      "ticks": "",
                      "title": {
                        "standoff": 15
                      },
                      "zerolinecolor": "white",
                      "zerolinewidth": 2
                    },
                    "yaxis": {
                      "automargin": true,
                      "gridcolor": "white",
                      "linecolor": "white",
                      "ticks": "",
                      "title": {
                        "standoff": 15
                      },
                      "zerolinecolor": "white",
                      "zerolinewidth": 2
                    }
                  }
                },
                "title": {
                  "font": {
                    "color": "blue",
                    "family": "Arial, sans-serif",
                    "size": 20
                  },
                  "text": "Recommended Models Accuracy",
                  "x": 0.5,
                  "xanchor": "center"
                },
                "width": 1000
              }
            }
          },
          "metadata": {},
          "output_type": "display_data"
        }
      ],
      "source": [
        "# Model accuracies\n",
        "model_accuracies = {\n",
        "    'XGBoost': xgb_acc,\n",
        "    'Random Forest': rfr_acc,\n",
        "    'Gradiant Boosting': gbr_acc,\n",
        "    'XGBoost GridSearch': grid_xgb_acc,\n",
        "    'ANN': ann_model,\n",
        "    'RNN': rnn_model\n",
        "}\n",
        "\n",
        "# Number of models\n",
        "num_models = len(model_accuracies)\n",
        "\n",
        "# Create the subplots\n",
        "fig = make_subplots(\n",
        "    rows=3, cols=3,\n",
        "    specs=[[{'type': 'indicator'}]*3 for _ in range(3)],\n",
        "    subplot_titles=list(model_accuracies.keys())\n",
        ")\n",
        "\n",
        "# Add the traces\n",
        "for i, (model_name, accuracy) in enumerate(model_accuracies.items()):\n",
        "    row = i // 3 + 1\n",
        "    col = i % 3 + 1\n",
        "    fig.add_trace(go.Indicator(\n",
        "        mode=\"gauge+number\",\n",
        "        value=accuracy * 100,  # Convert to percentage\n",
        "        title={'text': model_name, 'font': {'size': 12}, 'align': 'center'},\n",
        "        gauge={\n",
        "            'axis': {'range': [0, 100]},\n",
        "            'bar': {'color': \"purple\"},\n",
        "            'steps': [\n",
        "                {'range': [0, 50], 'color': \"green\"},\n",
        "                {'range': [50, 100], 'color': \"orange\"}\n",
        "            ],\n",
        "            'threshold': {\n",
        "                'line': {'color': \"black\", 'width': 4},\n",
        "                'thickness': 0.75,\n",
        "                'value': 90\n",
        "            }\n",
        "        }\n",
        "    ), row=row, col=col)\n",
        "\n",
        "# Update layout to center the title\n",
        "fig.update_layout(\n",
        "    height=1000, width=1000,\n",
        "    title={\n",
        "        'text': \"Recommended Models Accuracy\",\n",
        "        'x': 0.5,  # Center the title\n",
        "        'xanchor': 'center',\n",
        "        'font': {'size': 20, 'color': 'blue', 'family': 'Arial, sans-serif'}\n",
        "    },\n",
        "    margin=dict(t=100)\n",
        ")\n",
        "\n",
        "# Show the figure\n",
        "fig.show()"
      ]
    }
  ],
  "metadata": {
    "colab": {
      "provenance": []
    },
    "kernelspec": {
      "display_name": "Python 3",
      "name": "python3"
    },
    "language_info": {
      "codemirror_mode": {
        "name": "ipython",
        "version": 3
      },
      "file_extension": ".py",
      "mimetype": "text/x-python",
      "name": "python",
      "nbconvert_exporter": "python",
      "pygments_lexer": "ipython3",
      "version": "3.11.7"
    }
  },
  "nbformat": 4,
  "nbformat_minor": 0
}
